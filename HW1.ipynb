{
  "nbformat": 4,
  "nbformat_minor": 0,
  "metadata": {
    "anaconda-cloud": {},
    "kernelspec": {
      "display_name": "Python 3",
      "language": "python",
      "name": "python3"
    },
    "language_info": {
      "codemirror_mode": {
        "name": "ipython",
        "version": 3
      },
      "file_extension": ".py",
      "mimetype": "text/x-python",
      "name": "python",
      "nbconvert_exporter": "python",
      "pygments_lexer": "ipython3",
      "version": "3.8.8"
    },
    "colab": {
      "name": "HW1.ipynb",
      "provenance": []
    }
  },
  "cells": [
    {
      "cell_type": "markdown",
      "metadata": {
        "id": "-bIIDV4mLpFB"
      },
      "source": [
        "SAS & HSE, Applied Time Series Forecasitng , Fall 2021 \n",
        "\n",
        "<font color=\"blue\"> HW #1 </font>\n",
        "\n",
        "<span style=\"color:black; font-size: 12pt\"></span>\n",
        "\n",
        "Alexey Romanenko,\n",
        "<font color=\"blue\">alexromsput@gmail.com</font>"
      ]
    },
    {
      "cell_type": "markdown",
      "metadata": {
        "id": "-_CmZRMPLpFI"
      },
      "source": [
        "<h1 align=\"center\">Organization Info</h1> "
      ]
    },
    {
      "cell_type": "markdown",
      "metadata": {
        "id": "YyRPO5nFLpFI"
      },
      "source": [
        "**Дополнительный материал для выполнения дз**:\n",
        "- Лукишн Ю.П. Адаптивные методы краткосрочного прогнозирования временных рядов. Финансы и статистика. 2003, главы 1,4,5,7.\n",
        "- https://otexts.com/fpp2/expsmooth.html\n",
        "\n",
        "**Оформление дз**: \n",
        "- Присылайте выполненное задание в систему приема заданий HSE\n",
        "- Выполненное дз сохраните в файл ``<Surname>_<fall2021>_hw1.ipnb``, к примеру -- ``ivanov_401_task1.ipnb``\n",
        "\n",
        "**Вопросы**:\n",
        "- Присылайте вопросы в slack в соответствующий канал\n",
        "\n",
        "**Deadilne**: <font color=\"red\"> 8-Oct-2021 11:59:59 pm CET </font>\n",
        "\n",
        "В случае присланного решения позже дедлайна максимальный бал буде снижен согласно формуле\n",
        "\n",
        "$$МаксимальныйБалл=\\max\\bigl(1/3,\\log_2⁡(1.23 + 0.77 * max(0,(1-ДнейПослеДедлайна/14))) \\bigr).$$\n",
        "График зависимости максимально возможного балла за ДЗ от просрочки дедлайна приведён ниже:"
      ]
    },
    {
      "cell_type": "code",
      "metadata": {
        "id": "YtrUc62_OJpj",
        "outputId": "e00500e9-72ec-4ba0-9965-79d57076c7b4",
        "colab": {
          "base_uri": "https://localhost:8080/",
          "height": 225
        }
      },
      "source": [
        "import pandas as pd\n",
        "import numpy as np\n",
        "a = 2\n",
        "ax = pd.DataFrame(data = [[x, min(10, 10*max(1/3, np.log(a-0.77 + 0.77*max(0, (1-x/14)))/np.log(a)))] for x in np.linspace(-0.5,14.1,200)], columns = ['Количество дней после дедлайна', 'Максимальный балл']).set_index('Количество дней после дедлайна').plot(figsize = (5,3), grid = True)"
      ],
      "execution_count": 27,
      "outputs": [
        {
          "output_type": "display_data",
          "data": {
            "image/png": "[encoded data removed]",
            "text/plain": [
              "<Figure size 360x216 with 1 Axes>"
            ]
          },
          "metadata": {
            "needs_background": "light"
          }
        }
      ]
    },
    {
      "cell_type": "markdown",
      "metadata": {
        "id": "tPEt1WwpLpFK"
      },
      "source": [
        "<h1 align=\"center\">Check Questions (5%)</h1> "
      ]
    },
    {
      "cell_type": "markdown",
      "metadata": {
        "id": "eT4beARALpFL"
      },
      "source": [
        "Ответе на вопросы своими словами (загугленный материал надо пересказать), ответ обоснуйте (напишите и ОБЪЯСНИТЕ формулки если потребуется), если не выходит, то вернитесь к лекции дополнительным материалам:\n",
        "\n",
        "**Вопрос 1**: Опишите, как изменяется адаптивная способность алгоритма Simple Exponential Smoothing при изменении параметра $\\alpha$ от 0 до 1.\n",
        "\n",
        "<Ответ>\n",
        "\n",
        "**Вопрос 2**: Напишите, в чем отличие между терминами delay (отсрочка) и horizon (горизонт) прогнозирования.\n",
        "\n",
        "<Ответ>\n",
        "\n",
        "**Вопрос 3**: Каким следует выбрать параметр сглаживания тренда $\\alpha_2$ в модели Хольта (линейный тренд) в случае, когда вы предсказываете временной ряд 1) с плавно меняющимя трендом; 2) стохастически меняющися трендом?\n",
        "\n",
        "<Ответ>\n"
      ]
    },
    {
      "cell_type": "markdown",
      "metadata": {
        "id": "LpfNKng6LpFN"
      },
      "source": [
        "<h1 align=\"center\"> Practice</h1>\n",
        "#  1. reading data (5%)\n",
        "\n",
        "Download data and prepare for following time series \n",
        " * <span style=\"color:blue; font-family:'New Times Roman'; font-size:14pt\"> description of the target ts you can find here  https://gist.github.com/aromanenko/1413f002481065bf38ffec0eba566037 </span>"
      ]
    },
    {
      "cell_type": "code",
      "metadata": {
        "id": "1PA1elxdLpFO"
      },
      "source": [
        "# start with this code\n",
        "import pandas as pd\n",
        "import numpy as np\n",
        "from utils import InitExponentialSmoothing, build_forecast, plotTSForecast\n",
        "from utils import qualityRMSE, qualityMedianAE, qualityMACAPE, qualitySSE, qualityMSE, qualityMAPE \n",
        "\n",
        "%matplotlib inline\n",
        "\n",
        "\n",
        "# ts = pd.read_csv('???/mothly_ts.csv', sep=???, decimal=???, index_col=???, parse_dates=True, dayfirst=True)\n",
        "\n",
        "# # Put your code below\n",
        "# ts.plot(figsize=(15,5))"
      ],
      "execution_count": null,
      "outputs": []
    },
    {
      "cell_type": "markdown",
      "metadata": {
        "id": "eU1vXagNLpFR"
      },
      "source": [
        "# 2. Build the Forecast with  IES (5%)\n",
        "\n",
        "You need to apply SES model (see seminar 2) for the TS <span style=\"color:blue; font-family:'New Times Roman'; font-size:14pt\">monthly-ts.csv</span>.\n",
        "\n",
        "Forecast delay $h=1$ for all point in this task.\n",
        "\n",
        "\n",
        "* 0) Forecast the ts with SES $\\alpha=.1$.\n",
        "* 1) Split the ts to 4 equal parts: find the best param $\\alpha$ of SES for the based on 3-rd part of ts (e.g. if time series includes date from 01Jan2020 till 31Dec2021 then 3rd part will be from 1Jul2020 till 30Sep2020). Is the optimal value close to 0 or 1? (use MAPE as a loss function).\n",
        "* 2) Draw the forecast that correspond to SES with optimial value $\\alpha$\n",
        "     Conclude whether SES can be used for this TS? If can not than explain why.\n",
        "* 3) Calculate MAPE loss of the best forecast of the ts based on 4-th part of the ts."
      ]
    },
    {
      "cell_type": "markdown",
      "metadata": {
        "id": "HE-cPXRpLpFS"
      },
      "source": [
        "## 1) Search for the optimal $\\alpha$ "
      ]
    },
    {
      "cell_type": "code",
      "metadata": {
        "id": "K0wdYKmZLpFS"
      },
      "source": [
        "ALPHA = ???\n",
        "ESParamsArray = [{'alpha':alpha} for alpha in ALPHA]\n",
        "FRC_ts = build_forecast(h=1, ts=???, alg_name =  ???, alg_title=???,params_array = ESParamsArray)"
      ],
      "execution_count": null,
      "outputs": []
    },
    {
      "cell_type": "code",
      "metadata": {
        "id": "5djZWrMnLpFU"
      },
      "source": [
        "# compare ES parameters\n",
        "QualityStr = pd.DataFrame(index = ts.columns, columns = FRC_ts.keys())\n",
        "\n",
        "ix = ts.loc[???].index\n",
        "for param_cntr in sorted(QualityStr.columns):\n",
        "    frc_ts = FRC_ts[param_cntr]\n",
        "    QualityStr[param_cntr],_ = quality???(ts.loc[ix], frc_ts.loc[ix])\n",
        "\n",
        "QualityStr[QualityStr.columns].mean().sort_values()"
      ],
      "execution_count": null,
      "outputs": []
    },
    {
      "cell_type": "markdown",
      "metadata": {
        "id": "DwlMA4YGLpFV"
      },
      "source": [
        "## 2) draw the forecast with optimial value $\\alpha $"
      ]
    },
    {
      "cell_type": "code",
      "metadata": {
        "id": "D9n8LEmcLpFV"
      },
      "source": [
        "alg_name = QualityStr[QualityStr.columns].mean().sort_values().index[0]\n",
        "plotTSForecast(ts.loc[???], FRC_ts[alg_name].loc[???]\n",
        "               , ts_num=???, alg_title=???)"
      ],
      "execution_count": null,
      "outputs": []
    },
    {
      "cell_type": "markdown",
      "metadata": {
        "id": "ZluTuWtdLpFW"
      },
      "source": [
        "** Question**\n",
        "    * Does SES follow to the TS components?"
      ]
    },
    {
      "cell_type": "markdown",
      "metadata": {
        "id": "rT5xAly7LpFW"
      },
      "source": [
        "## 3) Calculate loss of the forecast of TS in [02.2015, 01.2017]"
      ]
    },
    {
      "cell_type": "code",
      "metadata": {
        "id": "0o8ciKSCLpFX"
      },
      "source": [
        "quality???(ts.loc[???], FRC_ts[alg_name].loc[???])[0]"
      ],
      "execution_count": null,
      "outputs": []
    },
    {
      "cell_type": "markdown",
      "metadata": {
        "id": "mo7uuFBFLpFX"
      },
      "source": [
        "# 3. Winters model for Additive Seasonality (25%)\n",
        "You need to realize ES model for TS with additive seasonality and then use it for forecasting real TS <span style=\"color:blue; font-family:'New Times Roman'; font-size:14pt\">monthly-ts.csv</span>.\n",
        "\n",
        "Forecast delay $h=1$ for all point in this task.\n",
        "\n",
        "* 1) Realize Winters model for Seasonal TS\n",
        "* 2) Find optimal params $\\alpha$ (smoothing of level) and $\\gamma$ (smoothing of seasonality) (use data from 09.1998 to 01.2015).(Loss function should be the same as in task 2.)\n",
        "* 3) Draw the forecast that correspond optimal values $\\alpha$ and $\\gamma$ (data from 09.1998 to 01.2017). \n",
        "* 4) Calculate accuracy of the forecast of TS in [02.2015, 01.2017] (Loss function should be the same as in task 2.). Compare it with accuracy of IES: is it better? \n",
        "* 5) Conclude whether Winter's ES can be used for this TS?"
      ]
    },
    {
      "cell_type": "code",
      "metadata": {
        "collapsed": true,
        "id": "GWggjDXGLpFY"
      },
      "source": [
        "# Start with this code\n",
        "###################### Winters Exponential Smoothing #########################\n",
        "# x <array Tx1>- time series, \n",
        "# h <scalar> - forecasting delay\n",
        "# Params <dict> - dictionary with \n",
        "#    alpha <scalar in [0,1]> - smoothing parameter\n",
        "#    delts <scalar in [0,1]> - seasonality smoothing parameter\n",
        "\n",
        "def WintersExponentialSmoothing(x, h, Params):\n",
        "    T = len(x)\n",
        "    alpha = Params['alpha']\n",
        "    delta = Params['delta']\n",
        "    p = Params['seasonality_period']\n",
        "    \n",
        "    FORECAST = ## put foreast of the model here\n",
        "    \n",
        "    l= # initialize ts level \n",
        "    s= # initalize seasonality values (it must be vector of lenth p)\n",
        "    \n",
        "    for cntr in range(T):\n",
        "        if not math.isnan(x[cntr]):\n",
        "            if math.isnan(l):\n",
        "                l= # initialize \n",
        " \n",
        "            if math.isnan(s[cntr % p]):\n",
        "                s[cntr % p]= # initialize \n",
        " \n",
        "            l = # recurrent smoothing of level \n",
        "            s[cntr % p] = # recurrent smoothing of seasonality\n",
        "            \n",
        "        FORECAST[cntr+h] = a + b[cntr+h % s]\n",
        "    return FORECAST"
      ],
      "execution_count": null,
      "outputs": []
    },
    {
      "cell_type": "code",
      "metadata": {
        "collapsed": true,
        "id": "HbInPw3KLpFZ"
      },
      "source": [
        "# Put your code here\n"
      ],
      "execution_count": null,
      "outputs": []
    },
    {
      "cell_type": "markdown",
      "metadata": {
        "id": "FqlkdBgHLpFZ"
      },
      "source": [
        "# 4. Theil-ts model for TS with linear trend and seasonality (25%)\n",
        "You need to realize Theil-ts model and then use it for forecasting real TS <span style=\"color:blue; font-family:'New Times Roman'; font-size:14pt\">monthly-ts.csv</span>.\n",
        "\n",
        "Forecast delay $h=1$ for all point in this task.\n",
        "\n",
        "* 1) Realize Theil-ts model for\n",
        "* 2) Find optimal params $\\alpha$ (smoothing of level), $\\beta$ (smoothing trend) and $\\gamma$ (smoothing of seasonality) (use data from 09.1998 to 01.2015).(Loss function should be the same as in task 2.)\n",
        "* 3) Draw forecast with optimal values $\\alpha$, $\\beta$ and $\\gamma$ from 09.1998 to 01.2017. \n",
        "* 4) Calculate accuracy of the forecast of TS in [02.2015, 01.2017] (Loss function should be the same as in task 2.). Compare it with accuracy of Winters model: is it better than the last one? \n",
        "* \\*5) Suggest how can the Theil-ts model be improved to make accuracy of forecast better?"
      ]
    },
    {
      "cell_type": "code",
      "metadata": {
        "collapsed": true,
        "id": "Ol9u1sDxLpFZ"
      },
      "source": [
        "# Put your code here"
      ],
      "execution_count": null,
      "outputs": []
    },
    {
      "cell_type": "markdown",
      "metadata": {
        "id": "ySLymROaLpFa"
      },
      "source": [
        "# 5. Non-additive model of ES (25%)\n",
        "You need to realize some ES-model that include non-addive component (or multiplicative trend or multiplicative component) and then use it for forecasting real TS <span style=\"color:blue; font-family:'New Times Roman'; font-size:14pt\">monthly-ts.csv</span>.\n",
        "\n",
        "Forecast delay $h=1$ for all point in this task.\n",
        "\n",
        "* 1) Realize one of following ES models: ESM(A,M) (t.e. Holt-Winters model), ESM(Ad,M), ESM(M,A), ESM(M,M) model.\n",
        "* 2) Find optimal params of the model (use data from 09.1998 to 01.2015). Note: if you choose damped trend model that $\\phi$ you can just set it by expert opinion (say $0.98$). (Loss function should be the same as in task 2.)\n",
        "* 3) Draw forecast with optimal values of it's params (data from 09.1998 to 01.2017). \n",
        "* 4) Calculate accuracy of the forecast of TS in [02.2015, 01.2017] (Loss function should be the same as in task 2.). Compare it with accuracy of Winters model and Theil-ts model: is it better than the last one? \n",
        "* 5) Is it true that multiplicative model are more unstable than additive? Unstable means thet forecast is can diveret"
      ]
    },
    {
      "cell_type": "code",
      "metadata": {
        "collapsed": true,
        "id": "jJIzoa_2LpFb"
      },
      "source": [
        "# Put your code here"
      ],
      "execution_count": null,
      "outputs": []
    }
  ]
}