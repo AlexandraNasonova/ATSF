{
  "nbformat": 4,
  "nbformat_minor": 0,
  "metadata": {
    "kernelspec": {
      "display_name": "Python [Root]",
      "language": "python",
      "name": "Python [Root]"
    },
    "language_info": {
      "codemirror_mode": {
        "name": "ipython",
        "version": 3
      },
      "file_extension": ".py",
      "mimetype": "text/x-python",
      "name": "python",
      "nbconvert_exporter": "python",
      "pygments_lexer": "ipython3",
      "version": "3.5.4"
    },
    "colab": {
      "name": "2_Simple Exponential Smothing.ipynb",
      "provenance": []
    }
  },
  "cells": [
    {
      "cell_type": "markdown",
      "metadata": {
        "id": "ZPU5rwsbdwUW"
      },
      "source": [
        "HSE, Applied Time Series Forecasitng , Fall 2022 \n",
        "\n",
        "<font color=\"blue\"> Lesson #2: Simple Exponential Smoothing Model </font>\n",
        "\n",
        "<span style=\"color:black; font-size: 12pt\"></span>\n",
        "\n",
        "Alexey Romanenko,\n",
        "<font color=\"blue\">alexromsput@gmail.com</font>"
      ]
    },
    {
      "cell_type": "markdown",
      "metadata": {
        "id": "W7KXBrRfdwUg"
      },
      "source": [
        "**Key words:** simple exponential smoothing, adaptive exponential smoothing, retail time series\n",
        "\n",
        "**Your fitback:**  please provide you feedback  <a href=\"https://forms.gle/EQgXEVQe9PPXUBzm6\"> here </a>"
      ]
    },
    {
      "cell_type": "code",
      "metadata": {
        "id": "4trZXQl2dwUk",
        "outputId": "fd64e30d-f760-4eda-f316-3f26bbcbf111",
        "colab": {
          "base_uri": "https://localhost:8080/",
          "height": 401
        }
      },
      "source": [
        "import numpy as np\n",
        "from datetime import datetime, timedelta\n",
        "import pylab\n",
        "import matplotlib.pyplot as plt\n",
        "import pandas as pd\n",
        "import math\n",
        "import pandas.tseries.offsets as ofs\n",
        "import warnings as w\n",
        "from utils import qualityMAPE, SimpleExponentialSmoothing\n",
        "from matplotlib import gridspec\n",
        "# import plotly.plotly as py\n",
        "import seaborn as sns\n",
        "\n",
        "from IPython.display import Image\n",
        "\n",
        "%matplotlib inline"
      ],
      "execution_count": 7,
      "outputs": [
        {
          "output_type": "error",
          "ename": "ImportError",
          "evalue": "ignored",
          "traceback": [
            "\u001b[0;31m---------------------------------------------------------------------------\u001b[0m",
            "\u001b[0;31mImportError\u001b[0m                               Traceback (most recent call last)",
            "\u001b[0;32m<ipython-input-7-bb22246a07c7>\u001b[0m in \u001b[0;36m<module>\u001b[0;34m\u001b[0m\n\u001b[1;32m      7\u001b[0m \u001b[0;32mimport\u001b[0m \u001b[0mpandas\u001b[0m\u001b[0;34m.\u001b[0m\u001b[0mtseries\u001b[0m\u001b[0;34m.\u001b[0m\u001b[0moffsets\u001b[0m \u001b[0;32mas\u001b[0m \u001b[0mofs\u001b[0m\u001b[0;34m\u001b[0m\u001b[0;34m\u001b[0m\u001b[0m\n\u001b[1;32m      8\u001b[0m \u001b[0;32mimport\u001b[0m \u001b[0mwarnings\u001b[0m \u001b[0;32mas\u001b[0m \u001b[0mw\u001b[0m\u001b[0;34m\u001b[0m\u001b[0;34m\u001b[0m\u001b[0m\n\u001b[0;32m----> 9\u001b[0;31m \u001b[0;32mfrom\u001b[0m \u001b[0mutils\u001b[0m \u001b[0;32mimport\u001b[0m \u001b[0mqualityMACAPE\u001b[0m\u001b[0;34m,\u001b[0m \u001b[0mSimpleExponentialSmoothing\u001b[0m\u001b[0;34m\u001b[0m\u001b[0;34m\u001b[0m\u001b[0m\n\u001b[0m\u001b[1;32m     10\u001b[0m \u001b[0;32mfrom\u001b[0m \u001b[0mmatplotlib\u001b[0m \u001b[0;32mimport\u001b[0m \u001b[0mgridspec\u001b[0m\u001b[0;34m\u001b[0m\u001b[0;34m\u001b[0m\u001b[0m\n\u001b[1;32m     11\u001b[0m \u001b[0;31m# import plotly.plotly as py\u001b[0m\u001b[0;34m\u001b[0m\u001b[0;34m\u001b[0m\u001b[0;34m\u001b[0m\u001b[0m\n",
            "\u001b[0;31mImportError\u001b[0m: cannot import name 'qualityMACAPE' from 'utils' (/content/utils.py)",
            "",
            "\u001b[0;31m---------------------------------------------------------------------------\u001b[0;32m\nNOTE: If your import is failing due to a missing package, you can\nmanually install dependencies using either !pip or !apt.\n\nTo view examples of installing some common dependencies, click the\n\"Open Examples\" button below.\n\u001b[0;31m---------------------------------------------------------------------------\u001b[0m\n"
          ],
          "errorDetails": {
            "actions": [
              {
                "action": "open_url",
                "actionText": "Open Examples",
                "url": "/notebooks/snippets/importing_libraries.ipynb"
              }
            ]
          }
        }
      ]
    },
    {
      "cell_type": "markdown",
      "metadata": {
        "id": "p_V9FzoJdwUm"
      },
      "source": [
        "# Typical TS for SES Model"
      ]
    },
    {
      "cell_type": "markdown",
      "metadata": {
        "id": "oUhUVoUedwUn"
      },
      "source": [
        "## TS in Retail"
      ]
    },
    {
      "cell_type": "code",
      "metadata": {
        "colab": {
          "base_uri": "https://localhost:8080/",
          "height": 238
        },
        "id": "XL2752jadwUn",
        "outputId": "e3fb1591-8cdc-4786-c821-d3eba056ce08"
      },
      "source": [
        "ts = pd.read_csv('https://raw.githubusercontent.com/aromanenko/ATSF/main/data/retail_10ts.csv', parse_dates=['Dates'], dayfirst=True, index_col='Dates')\n",
        "ts.index.names=['Timestamp']\n",
        "ts = ts.sort_index() # sort index\n",
        "ts.head()"
      ],
      "execution_count": 8,
      "outputs": [
        {
          "output_type": "execute_result",
          "data": {
            "text/plain": [
              "            Item:  165  Item:  969  Item: 2653  Item: 2654  Item: 2692  \\\n",
              "Timestamp                                                                \n",
              "2005-01-11         NaN         2.0         4.0         NaN         NaN   \n",
              "2005-01-12         NaN         5.0         8.0         NaN         NaN   \n",
              "2005-01-13         NaN         2.0        20.0         NaN         NaN   \n",
              "2005-01-14         NaN        42.0        14.0         NaN         NaN   \n",
              "2005-01-15         NaN         NaN        23.0         NaN         NaN   \n",
              "\n",
              "            Item: 2695  Item: 2697  Item: 2765  Item: 2767  Item: 2806  \\\n",
              "Timestamp                                                                \n",
              "2005-01-11         NaN         NaN         NaN         NaN         NaN   \n",
              "2005-01-12         NaN         NaN         NaN         NaN         NaN   \n",
              "2005-01-13         NaN         NaN         NaN         NaN         NaN   \n",
              "2005-01-14         NaN         NaN         NaN         NaN         NaN   \n",
              "2005-01-15         NaN         NaN         NaN         NaN         NaN   \n",
              "\n",
              "            Item: 2808  \n",
              "Timestamp               \n",
              "2005-01-11         NaN  \n",
              "2005-01-12         NaN  \n",
              "2005-01-13         NaN  \n",
              "2005-01-14         NaN  \n",
              "2005-01-15         NaN  "
            ],
            "text/html": [
              "\n",
              "  <div id=\"df-232b959f-e188-4dc7-90bc-b940766ba77d\">\n",
              "    <div class=\"colab-df-container\">\n",
              "      <div>\n",
              "<style scoped>\n",
              "    .dataframe tbody tr th:only-of-type {\n",
              "        vertical-align: middle;\n",
              "    }\n",
              "\n",
              "    .dataframe tbody tr th {\n",
              "        vertical-align: top;\n",
              "    }\n",
              "\n",
              "    .dataframe thead th {\n",
              "        text-align: right;\n",
              "    }\n",
              "</style>\n",
              "<table border=\"1\" class=\"dataframe\">\n",
              "  <thead>\n",
              "    <tr style=\"text-align: right;\">\n",
              "      <th></th>\n",
              "      <th>Item:  165</th>\n",
              "      <th>Item:  969</th>\n",
              "      <th>Item: 2653</th>\n",
              "      <th>Item: 2654</th>\n",
              "      <th>Item: 2692</th>\n",
              "      <th>Item: 2695</th>\n",
              "      <th>Item: 2697</th>\n",
              "      <th>Item: 2765</th>\n",
              "      <th>Item: 2767</th>\n",
              "      <th>Item: 2806</th>\n",
              "      <th>Item: 2808</th>\n",
              "    </tr>\n",
              "    <tr>\n",
              "      <th>Timestamp</th>\n",
              "      <th></th>\n",
              "      <th></th>\n",
              "      <th></th>\n",
              "      <th></th>\n",
              "      <th></th>\n",
              "      <th></th>\n",
              "      <th></th>\n",
              "      <th></th>\n",
              "      <th></th>\n",
              "      <th></th>\n",
              "      <th></th>\n",
              "    </tr>\n",
              "  </thead>\n",
              "  <tbody>\n",
              "    <tr>\n",
              "      <th>2005-01-11</th>\n",
              "      <td>NaN</td>\n",
              "      <td>2.0</td>\n",
              "      <td>4.0</td>\n",
              "      <td>NaN</td>\n",
              "      <td>NaN</td>\n",
              "      <td>NaN</td>\n",
              "      <td>NaN</td>\n",
              "      <td>NaN</td>\n",
              "      <td>NaN</td>\n",
              "      <td>NaN</td>\n",
              "      <td>NaN</td>\n",
              "    </tr>\n",
              "    <tr>\n",
              "      <th>2005-01-12</th>\n",
              "      <td>NaN</td>\n",
              "      <td>5.0</td>\n",
              "      <td>8.0</td>\n",
              "      <td>NaN</td>\n",
              "      <td>NaN</td>\n",
              "      <td>NaN</td>\n",
              "      <td>NaN</td>\n",
              "      <td>NaN</td>\n",
              "      <td>NaN</td>\n",
              "      <td>NaN</td>\n",
              "      <td>NaN</td>\n",
              "    </tr>\n",
              "    <tr>\n",
              "      <th>2005-01-13</th>\n",
              "      <td>NaN</td>\n",
              "      <td>2.0</td>\n",
              "      <td>20.0</td>\n",
              "      <td>NaN</td>\n",
              "      <td>NaN</td>\n",
              "      <td>NaN</td>\n",
              "      <td>NaN</td>\n",
              "      <td>NaN</td>\n",
              "      <td>NaN</td>\n",
              "      <td>NaN</td>\n",
              "      <td>NaN</td>\n",
              "    </tr>\n",
              "    <tr>\n",
              "      <th>2005-01-14</th>\n",
              "      <td>NaN</td>\n",
              "      <td>42.0</td>\n",
              "      <td>14.0</td>\n",
              "      <td>NaN</td>\n",
              "      <td>NaN</td>\n",
              "      <td>NaN</td>\n",
              "      <td>NaN</td>\n",
              "      <td>NaN</td>\n",
              "      <td>NaN</td>\n",
              "      <td>NaN</td>\n",
              "      <td>NaN</td>\n",
              "    </tr>\n",
              "    <tr>\n",
              "      <th>2005-01-15</th>\n",
              "      <td>NaN</td>\n",
              "      <td>NaN</td>\n",
              "      <td>23.0</td>\n",
              "      <td>NaN</td>\n",
              "      <td>NaN</td>\n",
              "      <td>NaN</td>\n",
              "      <td>NaN</td>\n",
              "      <td>NaN</td>\n",
              "      <td>NaN</td>\n",
              "      <td>NaN</td>\n",
              "      <td>NaN</td>\n",
              "    </tr>\n",
              "  </tbody>\n",
              "</table>\n",
              "</div>\n",
              "      <button class=\"colab-df-convert\" onclick=\"convertToInteractive('df-232b959f-e188-4dc7-90bc-b940766ba77d')\"\n",
              "              title=\"Convert this dataframe to an interactive table.\"\n",
              "              style=\"display:none;\">\n",
              "        \n",
              "  <svg xmlns=\"http://www.w3.org/2000/svg\" height=\"24px\"viewBox=\"0 0 24 24\"\n",
              "       width=\"24px\">\n",
              "    <path d=\"M0 0h24v24H0V0z\" fill=\"none\"/>\n",
              "    <path d=\"M18.56 5.44l.94 2.06.94-2.06 2.06-.94-2.06-.94-.94-2.06-.94 2.06-2.06.94zm-11 1L8.5 8.5l.94-2.06 2.06-.94-2.06-.94L8.5 2.5l-.94 2.06-2.06.94zm10 10l.94 2.06.94-2.06 2.06-.94-2.06-.94-.94-2.06-.94 2.06-2.06.94z\"/><path d=\"M17.41 7.96l-1.37-1.37c-.4-.4-.92-.59-1.43-.59-.52 0-1.04.2-1.43.59L10.3 9.45l-7.72 7.72c-.78.78-.78 2.05 0 2.83L4 21.41c.39.39.9.59 1.41.59.51 0 1.02-.2 1.41-.59l7.78-7.78 2.81-2.81c.8-.78.8-2.07 0-2.86zM5.41 20L4 18.59l7.72-7.72 1.47 1.35L5.41 20z\"/>\n",
              "  </svg>\n",
              "      </button>\n",
              "      \n",
              "  <style>\n",
              "    .colab-df-container {\n",
              "      display:flex;\n",
              "      flex-wrap:wrap;\n",
              "      gap: 12px;\n",
              "    }\n",
              "\n",
              "    .colab-df-convert {\n",
              "      background-color: #E8F0FE;\n",
              "      border: none;\n",
              "      border-radius: 50%;\n",
              "      cursor: pointer;\n",
              "      display: none;\n",
              "      fill: #1967D2;\n",
              "      height: 32px;\n",
              "      padding: 0 0 0 0;\n",
              "      width: 32px;\n",
              "    }\n",
              "\n",
              "    .colab-df-convert:hover {\n",
              "      background-color: #E2EBFA;\n",
              "      box-shadow: 0px 1px 2px rgba(60, 64, 67, 0.3), 0px 1px 3px 1px rgba(60, 64, 67, 0.15);\n",
              "      fill: #174EA6;\n",
              "    }\n",
              "\n",
              "    [theme=dark] .colab-df-convert {\n",
              "      background-color: #3B4455;\n",
              "      fill: #D2E3FC;\n",
              "    }\n",
              "\n",
              "    [theme=dark] .colab-df-convert:hover {\n",
              "      background-color: #434B5C;\n",
              "      box-shadow: 0px 1px 3px 1px rgba(0, 0, 0, 0.15);\n",
              "      filter: drop-shadow(0px 1px 2px rgba(0, 0, 0, 0.3));\n",
              "      fill: #FFFFFF;\n",
              "    }\n",
              "  </style>\n",
              "\n",
              "      <script>\n",
              "        const buttonEl =\n",
              "          document.querySelector('#df-232b959f-e188-4dc7-90bc-b940766ba77d button.colab-df-convert');\n",
              "        buttonEl.style.display =\n",
              "          google.colab.kernel.accessAllowed ? 'block' : 'none';\n",
              "\n",
              "        async function convertToInteractive(key) {\n",
              "          const element = document.querySelector('#df-232b959f-e188-4dc7-90bc-b940766ba77d');\n",
              "          const dataTable =\n",
              "            await google.colab.kernel.invokeFunction('convertToInteractive',\n",
              "                                                     [key], {});\n",
              "          if (!dataTable) return;\n",
              "\n",
              "          const docLinkHtml = 'Like what you see? Visit the ' +\n",
              "            '<a target=\"_blank\" href=https://colab.research.google.com/notebooks/data_table.ipynb>data table notebook</a>'\n",
              "            + ' to learn more about interactive tables.';\n",
              "          element.innerHTML = '';\n",
              "          dataTable['output_type'] = 'display_data';\n",
              "          await google.colab.output.renderOutput(dataTable, element);\n",
              "          const docLink = document.createElement('div');\n",
              "          docLink.innerHTML = docLinkHtml;\n",
              "          element.appendChild(docLink);\n",
              "        }\n",
              "      </script>\n",
              "    </div>\n",
              "  </div>\n",
              "  "
            ]
          },
          "metadata": {},
          "execution_count": 8
        }
      ]
    },
    {
      "cell_type": "code",
      "metadata": {
        "colab": {
          "base_uri": "https://localhost:8080/",
          "height": 238
        },
        "id": "mMR8BzpWdwUt",
        "outputId": "5d9a337e-b559-430c-a1a9-8974e19aa8cf"
      },
      "source": [
        "# Interval of ts \n",
        "ts.loc['2007-01-01':'2007-01-05']"
      ],
      "execution_count": 9,
      "outputs": [
        {
          "output_type": "execute_result",
          "data": {
            "text/plain": [
              "            Item:  165  Item:  969  Item: 2653  Item: 2654  Item: 2692  \\\n",
              "Timestamp                                                                \n",
              "2007-01-01         NaN         NaN         NaN         NaN         NaN   \n",
              "2007-01-02         NaN        21.0        11.0         NaN         7.0   \n",
              "2007-01-03         NaN        10.0        15.0         NaN        21.0   \n",
              "2007-01-04         NaN         NaN         4.0         NaN         7.0   \n",
              "2007-01-05         NaN         3.0        36.0         NaN        14.0   \n",
              "\n",
              "            Item: 2695  Item: 2697  Item: 2765  Item: 2767  Item: 2806  \\\n",
              "Timestamp                                                                \n",
              "2007-01-01         NaN         NaN         NaN         NaN         NaN   \n",
              "2007-01-02         2.0         NaN         7.0         1.0         3.0   \n",
              "2007-01-03         7.0         NaN         2.0         3.0         0.0   \n",
              "2007-01-04         NaN         NaN        12.0         1.0         NaN   \n",
              "2007-01-05         NaN         NaN         6.0        10.0         4.0   \n",
              "\n",
              "            Item: 2808  \n",
              "Timestamp               \n",
              "2007-01-01         NaN  \n",
              "2007-01-02         5.0  \n",
              "2007-01-03         2.0  \n",
              "2007-01-04         1.0  \n",
              "2007-01-05         1.0  "
            ],
            "text/html": [
              "\n",
              "  <div id=\"df-e600ccb0-e5bd-44b7-a6ad-fc97b35a036e\">\n",
              "    <div class=\"colab-df-container\">\n",
              "      <div>\n",
              "<style scoped>\n",
              "    .dataframe tbody tr th:only-of-type {\n",
              "        vertical-align: middle;\n",
              "    }\n",
              "\n",
              "    .dataframe tbody tr th {\n",
              "        vertical-align: top;\n",
              "    }\n",
              "\n",
              "    .dataframe thead th {\n",
              "        text-align: right;\n",
              "    }\n",
              "</style>\n",
              "<table border=\"1\" class=\"dataframe\">\n",
              "  <thead>\n",
              "    <tr style=\"text-align: right;\">\n",
              "      <th></th>\n",
              "      <th>Item:  165</th>\n",
              "      <th>Item:  969</th>\n",
              "      <th>Item: 2653</th>\n",
              "      <th>Item: 2654</th>\n",
              "      <th>Item: 2692</th>\n",
              "      <th>Item: 2695</th>\n",
              "      <th>Item: 2697</th>\n",
              "      <th>Item: 2765</th>\n",
              "      <th>Item: 2767</th>\n",
              "      <th>Item: 2806</th>\n",
              "      <th>Item: 2808</th>\n",
              "    </tr>\n",
              "    <tr>\n",
              "      <th>Timestamp</th>\n",
              "      <th></th>\n",
              "      <th></th>\n",
              "      <th></th>\n",
              "      <th></th>\n",
              "      <th></th>\n",
              "      <th></th>\n",
              "      <th></th>\n",
              "      <th></th>\n",
              "      <th></th>\n",
              "      <th></th>\n",
              "      <th></th>\n",
              "    </tr>\n",
              "  </thead>\n",
              "  <tbody>\n",
              "    <tr>\n",
              "      <th>2007-01-01</th>\n",
              "      <td>NaN</td>\n",
              "      <td>NaN</td>\n",
              "      <td>NaN</td>\n",
              "      <td>NaN</td>\n",
              "      <td>NaN</td>\n",
              "      <td>NaN</td>\n",
              "      <td>NaN</td>\n",
              "      <td>NaN</td>\n",
              "      <td>NaN</td>\n",
              "      <td>NaN</td>\n",
              "      <td>NaN</td>\n",
              "    </tr>\n",
              "    <tr>\n",
              "      <th>2007-01-02</th>\n",
              "      <td>NaN</td>\n",
              "      <td>21.0</td>\n",
              "      <td>11.0</td>\n",
              "      <td>NaN</td>\n",
              "      <td>7.0</td>\n",
              "      <td>2.0</td>\n",
              "      <td>NaN</td>\n",
              "      <td>7.0</td>\n",
              "      <td>1.0</td>\n",
              "      <td>3.0</td>\n",
              "      <td>5.0</td>\n",
              "    </tr>\n",
              "    <tr>\n",
              "      <th>2007-01-03</th>\n",
              "      <td>NaN</td>\n",
              "      <td>10.0</td>\n",
              "      <td>15.0</td>\n",
              "      <td>NaN</td>\n",
              "      <td>21.0</td>\n",
              "      <td>7.0</td>\n",
              "      <td>NaN</td>\n",
              "      <td>2.0</td>\n",
              "      <td>3.0</td>\n",
              "      <td>0.0</td>\n",
              "      <td>2.0</td>\n",
              "    </tr>\n",
              "    <tr>\n",
              "      <th>2007-01-04</th>\n",
              "      <td>NaN</td>\n",
              "      <td>NaN</td>\n",
              "      <td>4.0</td>\n",
              "      <td>NaN</td>\n",
              "      <td>7.0</td>\n",
              "      <td>NaN</td>\n",
              "      <td>NaN</td>\n",
              "      <td>12.0</td>\n",
              "      <td>1.0</td>\n",
              "      <td>NaN</td>\n",
              "      <td>1.0</td>\n",
              "    </tr>\n",
              "    <tr>\n",
              "      <th>2007-01-05</th>\n",
              "      <td>NaN</td>\n",
              "      <td>3.0</td>\n",
              "      <td>36.0</td>\n",
              "      <td>NaN</td>\n",
              "      <td>14.0</td>\n",
              "      <td>NaN</td>\n",
              "      <td>NaN</td>\n",
              "      <td>6.0</td>\n",
              "      <td>10.0</td>\n",
              "      <td>4.0</td>\n",
              "      <td>1.0</td>\n",
              "    </tr>\n",
              "  </tbody>\n",
              "</table>\n",
              "</div>\n",
              "      <button class=\"colab-df-convert\" onclick=\"convertToInteractive('df-e600ccb0-e5bd-44b7-a6ad-fc97b35a036e')\"\n",
              "              title=\"Convert this dataframe to an interactive table.\"\n",
              "              style=\"display:none;\">\n",
              "        \n",
              "  <svg xmlns=\"http://www.w3.org/2000/svg\" height=\"24px\"viewBox=\"0 0 24 24\"\n",
              "       width=\"24px\">\n",
              "    <path d=\"M0 0h24v24H0V0z\" fill=\"none\"/>\n",
              "    <path d=\"M18.56 5.44l.94 2.06.94-2.06 2.06-.94-2.06-.94-.94-2.06-.94 2.06-2.06.94zm-11 1L8.5 8.5l.94-2.06 2.06-.94-2.06-.94L8.5 2.5l-.94 2.06-2.06.94zm10 10l.94 2.06.94-2.06 2.06-.94-2.06-.94-.94-2.06-.94 2.06-2.06.94z\"/><path d=\"M17.41 7.96l-1.37-1.37c-.4-.4-.92-.59-1.43-.59-.52 0-1.04.2-1.43.59L10.3 9.45l-7.72 7.72c-.78.78-.78 2.05 0 2.83L4 21.41c.39.39.9.59 1.41.59.51 0 1.02-.2 1.41-.59l7.78-7.78 2.81-2.81c.8-.78.8-2.07 0-2.86zM5.41 20L4 18.59l7.72-7.72 1.47 1.35L5.41 20z\"/>\n",
              "  </svg>\n",
              "      </button>\n",
              "      \n",
              "  <style>\n",
              "    .colab-df-container {\n",
              "      display:flex;\n",
              "      flex-wrap:wrap;\n",
              "      gap: 12px;\n",
              "    }\n",
              "\n",
              "    .colab-df-convert {\n",
              "      background-color: #E8F0FE;\n",
              "      border: none;\n",
              "      border-radius: 50%;\n",
              "      cursor: pointer;\n",
              "      display: none;\n",
              "      fill: #1967D2;\n",
              "      height: 32px;\n",
              "      padding: 0 0 0 0;\n",
              "      width: 32px;\n",
              "    }\n",
              "\n",
              "    .colab-df-convert:hover {\n",
              "      background-color: #E2EBFA;\n",
              "      box-shadow: 0px 1px 2px rgba(60, 64, 67, 0.3), 0px 1px 3px 1px rgba(60, 64, 67, 0.15);\n",
              "      fill: #174EA6;\n",
              "    }\n",
              "\n",
              "    [theme=dark] .colab-df-convert {\n",
              "      background-color: #3B4455;\n",
              "      fill: #D2E3FC;\n",
              "    }\n",
              "\n",
              "    [theme=dark] .colab-df-convert:hover {\n",
              "      background-color: #434B5C;\n",
              "      box-shadow: 0px 1px 3px 1px rgba(0, 0, 0, 0.15);\n",
              "      filter: drop-shadow(0px 1px 2px rgba(0, 0, 0, 0.3));\n",
              "      fill: #FFFFFF;\n",
              "    }\n",
              "  </style>\n",
              "\n",
              "      <script>\n",
              "        const buttonEl =\n",
              "          document.querySelector('#df-e600ccb0-e5bd-44b7-a6ad-fc97b35a036e button.colab-df-convert');\n",
              "        buttonEl.style.display =\n",
              "          google.colab.kernel.accessAllowed ? 'block' : 'none';\n",
              "\n",
              "        async function convertToInteractive(key) {\n",
              "          const element = document.querySelector('#df-e600ccb0-e5bd-44b7-a6ad-fc97b35a036e');\n",
              "          const dataTable =\n",
              "            await google.colab.kernel.invokeFunction('convertToInteractive',\n",
              "                                                     [key], {});\n",
              "          if (!dataTable) return;\n",
              "\n",
              "          const docLinkHtml = 'Like what you see? Visit the ' +\n",
              "            '<a target=\"_blank\" href=https://colab.research.google.com/notebooks/data_table.ipynb>data table notebook</a>'\n",
              "            + ' to learn more about interactive tables.';\n",
              "          element.innerHTML = '';\n",
              "          dataTable['output_type'] = 'display_data';\n",
              "          await google.colab.output.renderOutput(dataTable, element);\n",
              "          const docLink = document.createElement('div');\n",
              "          docLink.innerHTML = docLinkHtml;\n",
              "          element.appendChild(docLink);\n",
              "        }\n",
              "      </script>\n",
              "    </div>\n",
              "  </div>\n",
              "  "
            ]
          },
          "metadata": {},
          "execution_count": 9
        }
      ]
    },
    {
      "cell_type": "markdown",
      "metadata": {
        "id": "4iZM5K94dwUu"
      },
      "source": [
        "**Questions** \n",
        "    - Which charachteristic of TS can you mention so far?\n",
        "    - Which components of TS can you see?"
      ]
    },
    {
      "cell_type": "code",
      "metadata": {
        "colab": {
          "base_uri": "https://localhost:8080/",
          "height": 353
        },
        "id": "qKKimc5ndwUv",
        "outputId": "42ecb58a-cbb8-4194-f7d5-fb8f0c89090d"
      },
      "source": [
        "# fig = plt.figure()\n",
        "ts.loc['2005-07-01':'2007-12-31', ts.columns[range(3)]].plot(figsize=(25,5))\n",
        "# to save the pictures\n",
        "# plt.savefig('../Lecture_TS_Forecasting/pic/TS_Example.eps', bbox_inches='tight', pad_inches=0, format='eps', dpi=1000) "
      ],
      "execution_count": 10,
      "outputs": [
        {
          "output_type": "execute_result",
          "data": {
            "text/plain": [
              "<matplotlib.axes._subplots.AxesSubplot at 0x7f8960ee6690>"
            ]
          },
          "metadata": {},
          "execution_count": 10
        },
        {
          "output_type": "display_data",
          "data": {
            "text/plain": [
              "<Figure size 1800x360 with 1 Axes>"
            ],
            "image/png": "[encoded data removed]"
          },
          "metadata": {
            "needs_background": "light"
          }
        }
      ]
    },
    {
      "cell_type": "markdown",
      "metadata": {
        "id": "oK_7wRyysaMG"
      },
      "source": [
        "**Questions**\n",
        "\n",
        " - What are key aspects of these retail ts?\n"
      ]
    },
    {
      "cell_type": "code",
      "metadata": {
        "colab": {
          "base_uri": "https://localhost:8080/",
          "height": 269
        },
        "id": "sE--gTdtdwUv",
        "outputId": "5a13ac90-619c-4f5c-f45c-4252f86da1f7"
      },
      "source": [
        "fig = plt.figure(figsize=(25,10))\n",
        "gs = gridspec.GridSpec(3, 3)\n",
        "for i in range(3):\n",
        "    for j in range(3):\n",
        "        fig.add_subplot(gs[i,j])\n",
        "        ts.loc[:, ts.columns[i+j]].plot()"
      ],
      "execution_count": 11,
      "outputs": [
        {
          "output_type": "error",
          "ename": "NameError",
          "evalue": "ignored",
          "traceback": [
            "\u001b[0;31m---------------------------------------------------------------------------\u001b[0m",
            "\u001b[0;31mNameError\u001b[0m                                 Traceback (most recent call last)",
            "\u001b[0;32m<ipython-input-11-1ab0c8b89733>\u001b[0m in \u001b[0;36m<module>\u001b[0;34m\u001b[0m\n\u001b[1;32m      1\u001b[0m \u001b[0mfig\u001b[0m \u001b[0;34m=\u001b[0m \u001b[0mplt\u001b[0m\u001b[0;34m.\u001b[0m\u001b[0mfigure\u001b[0m\u001b[0;34m(\u001b[0m\u001b[0mfigsize\u001b[0m\u001b[0;34m=\u001b[0m\u001b[0;34m(\u001b[0m\u001b[0;36m25\u001b[0m\u001b[0;34m,\u001b[0m\u001b[0;36m10\u001b[0m\u001b[0;34m)\u001b[0m\u001b[0;34m)\u001b[0m\u001b[0;34m\u001b[0m\u001b[0;34m\u001b[0m\u001b[0m\n\u001b[0;32m----> 2\u001b[0;31m \u001b[0mgs\u001b[0m \u001b[0;34m=\u001b[0m \u001b[0mgridspec\u001b[0m\u001b[0;34m.\u001b[0m\u001b[0mGridSpec\u001b[0m\u001b[0;34m(\u001b[0m\u001b[0;36m3\u001b[0m\u001b[0;34m,\u001b[0m \u001b[0;36m3\u001b[0m\u001b[0;34m)\u001b[0m\u001b[0;34m\u001b[0m\u001b[0;34m\u001b[0m\u001b[0m\n\u001b[0m\u001b[1;32m      3\u001b[0m \u001b[0;32mfor\u001b[0m \u001b[0mi\u001b[0m \u001b[0;32min\u001b[0m \u001b[0mrange\u001b[0m\u001b[0;34m(\u001b[0m\u001b[0;36m3\u001b[0m\u001b[0;34m)\u001b[0m\u001b[0;34m:\u001b[0m\u001b[0;34m\u001b[0m\u001b[0;34m\u001b[0m\u001b[0m\n\u001b[1;32m      4\u001b[0m     \u001b[0;32mfor\u001b[0m \u001b[0mj\u001b[0m \u001b[0;32min\u001b[0m \u001b[0mrange\u001b[0m\u001b[0;34m(\u001b[0m\u001b[0;36m3\u001b[0m\u001b[0;34m)\u001b[0m\u001b[0;34m:\u001b[0m\u001b[0;34m\u001b[0m\u001b[0;34m\u001b[0m\u001b[0m\n\u001b[1;32m      5\u001b[0m         \u001b[0mfig\u001b[0m\u001b[0;34m.\u001b[0m\u001b[0madd_subplot\u001b[0m\u001b[0;34m(\u001b[0m\u001b[0mgs\u001b[0m\u001b[0;34m[\u001b[0m\u001b[0mi\u001b[0m\u001b[0;34m,\u001b[0m\u001b[0mj\u001b[0m\u001b[0;34m]\u001b[0m\u001b[0;34m)\u001b[0m\u001b[0;34m\u001b[0m\u001b[0;34m\u001b[0m\u001b[0m\n",
            "\u001b[0;31mNameError\u001b[0m: name 'gridspec' is not defined"
          ]
        },
        {
          "output_type": "display_data",
          "data": {
            "text/plain": [
              "<Figure size 1800x720 with 0 Axes>"
            ]
          },
          "metadata": {}
        }
      ]
    },
    {
      "cell_type": "markdown",
      "metadata": {
        "id": "4v2lEmcVtXuX"
      },
      "source": [
        "**Questions**\n",
        "\n",
        " - Any idea how to predict such ts?\n",
        " - Can you describe statistical model for such ts?"
      ]
    },
    {
      "cell_type": "markdown",
      "metadata": {
        "id": "03DIQhhctpWw"
      },
      "source": [
        "###### Answer\n",
        "\n"
      ]
    },
    {
      "cell_type": "markdown",
      "metadata": {
        "id": "pgmrvL8XvD49"
      },
      "source": [
        "$$y_{t} = l_t + \\color{red}{\\varepsilon_t},$$\n",
        "\n",
        "where $l_t$ $-$ changing slowly level of time series,\n",
        "\n",
        "$\\varepsilon_t~-$ error component (unobserved noise)\n",
        "\n",
        "Forecasting model:\n",
        "\n",
        "$$ {\\hat y_{t+d}} = \\color{\\red}{\\hat l_t} $$\n",
        "\n",
        "where $\\hat l_t~-$ an estimation of level\n"
      ]
    },
    {
      "cell_type": "markdown",
      "metadata": {
        "id": "ry2p2VFEdwU0"
      },
      "source": [
        "## Moving Average"
      ]
    },
    {
      "cell_type": "markdown",
      "metadata": {
        "id": "Xwe5EWqodwU0"
      },
      "source": [
        "** Rolling window n **\n",
        "       $$\\hat y_{t+d} = \\frac{1}{n}\\left(y_{t-n+1}+\\dots+ {y}_t\\right)$$\n",
        "   \n",
        "** All points in  $[t-n+1, t]$ has the same weight **\n",
        "                                   $$w = \\frac{1}{n}$$\n",
        "** Other points has weight**\n",
        "                                    $$w = 0$$"
      ]
    },
    {
      "cell_type": "code",
      "metadata": {
        "id": "qPj19MnBdwU1"
      },
      "source": [
        "# Rolling moving (n = 2 и n=28)\n",
        "# Note: replace NaN befor average calculation\n",
        "ts.loc['2008-01-01':'2008-01-31'][u'Item:  165'].plot(label='TS')\n",
        "ts[u'Item:  165'].fillna(method='pad').rolling(2).mean().loc['2008-01-01':'2008-01-31'].plot(label='2D MA', figsize=(25,5))\n",
        "ts[u'Item:  165'].fillna(method='pad').rolling(28).mean().loc['2008-01-01':'2008-01-31'].plot(label='28D MA', figsize=(25,5))\n",
        "\n",
        "plt.legend(bbox_to_anchor=(1.25, .5), prop={'size':24})\n",
        "plt.tight_layout()\n",
        "sns.despine()"
      ],
      "execution_count": null,
      "outputs": []
    },
    {
      "cell_type": "markdown",
      "metadata": {
        "id": "RDW91tmydwU1"
      },
      "source": [
        "**Expanding window**\n",
        "       $$\\hat y_{t+d} = \\frac{1}{t}\\left(y_{1}+\\dots+ {y}_t\\right)$$\n",
        "   \n",
        "**All time points in $[1, t]$ has the same weight**\n",
        "                                   $$w = \\frac{1}{t}$$   "
      ]
    },
    {
      "cell_type": "code",
      "metadata": {
        "id": "DGvOB1aHdwU9"
      },
      "source": [
        "# Expanding windod\n",
        "ts.loc['2008-01-01':'2008-01-31'][u'Item:  165'].plot(label='TS')\n",
        "ts.fillna(method='pad')[u'Item:  165'].expanding().mean().loc['2008-01-01':'2008-01-31'].plot(label='Expanding', figsize=(25,5))\n",
        "\n",
        "plt.legend(bbox_to_anchor=(1.25, .5), prop={'size':24})\n",
        "plt.tight_layout()\n",
        "sns.despine()"
      ],
      "execution_count": null,
      "outputs": []
    },
    {
      "cell_type": "markdown",
      "metadata": {
        "id": "BYYOWzCSM1IM"
      },
      "source": [
        "**Questions**\n",
        "\n",
        " - What are analytical disadvantages of using movinag average algorithm?\n"
      ]
    },
    {
      "cell_type": "markdown",
      "metadata": {
        "id": "5IZPeBS8NL9_"
      },
      "source": [
        "## Exponentially Wighted Moving Average"
      ]
    },
    {
      "cell_type": "markdown",
      "metadata": {
        "id": "yuMqKjYedwU-"
      },
      "source": [
        "**Exponentialy diminishing weights**\n",
        "    $$\\hat y_{t+d}= \\alpha y_t + \\alpha \\left(1-\\alpha\\right)y_{t-1} + \\alpha \\left(1-\\alpha\\right)^2y_{t-2}+\\dots = \\sum_{\\tau=1}^t \\alpha\\cdot (1-\\alpha)^{t-\\tau}\\cdot y_\\tau$$\n",
        "   \n",
        "**Weight for time point in moment $\\tau$**\n",
        "    $$w_\\tau = \\alpha\\cdot (1-\\alpha)^{t-\\tau}$$  \n"
      ]
    },
    {
      "cell_type": "code",
      "metadata": {
        "id": "sQ0LEYJ5ZrW9"
      },
      "source": [
        "# look at timestamp weights\n",
        "t = 10\n",
        "alpha_set = [0.001, 0.1, 0.15, 0.2, 0.5, 0.9]\n",
        "pd.DataFrame(data = [[a*(1-a)**(t-tau) for a in alpha_set] for tau in range(1,t+1,1)], columns = [r'\\alpha=' + str(x) for x in alpha_set], index = range(1,t+1,1)).sort_index(ascending = False)"
      ],
      "execution_count": null,
      "outputs": []
    },
    {
      "cell_type": "markdown",
      "metadata": {
        "id": "ZL_nmalDjWE8"
      },
      "source": [
        "window ~ $\\frac{1}{2\\alpha}$"
      ]
    },
    {
      "cell_type": "code",
      "metadata": {
        "id": "72G3dnGLdwU_"
      },
      "source": [
        "# Averaging with exponential weights\n",
        "ts.loc['2008-01-01':'2008-01-31'][u'Item:  165'].plot(label='TS')\n",
        "ts.fillna(method='pad')[u'Item:  165'].ewm(alpha=0.9).mean().loc['2008-01-01':'2008-01-31'].plot(label='EWMA($\\\\alpha=.9$)') \n",
        "ts.fillna(method='pad')[u'Item:  165'].ewm(alpha=0.5).mean().loc['2008-01-01':'2008-01-31'].plot(label='EWMA($\\\\alpha=.5$)') \n",
        "ts.fillna(method='pad')[u'Item:  165'].ewm(alpha=0.1).mean().loc['2008-01-01':'2008-01-31'].plot(label='EWMA($\\\\alpha=.1$)') \n",
        "ts.fillna(method='pad')[u'Item:  165'].ewm(alpha=0.01).mean().loc['2008-01-01':'2008-01-31'].plot(label='EWMA($\\\\alpha=.01$)', figsize=(25,5)) \n",
        "\n",
        "plt.legend(bbox_to_anchor=(1.25, .5), prop={'size':20})\n",
        "plt.tight_layout()\n",
        "sns.despine()"
      ],
      "execution_count": null,
      "outputs": []
    },
    {
      "cell_type": "markdown",
      "metadata": {
        "id": "NwsvXWXdgwq2"
      },
      "source": [
        "**Parameter $\\alpha$ drives the depth of the historical period to be considered!**\n",
        "\n",
        "$\\alpha \\uparrow 1 \\; \\Rightarrow$ EWMA is closer to Moving Average with window = 1,\n",
        "\n",
        "$\\alpha \\downarrow 0 \\; \\Rightarrow$ EWMA is closer to Moving Average with expanding window."
      ]
    },
    {
      "cell_type": "code",
      "metadata": {
        "id": "5mDV_p8kdwVA"
      },
      "source": [
        "# Compare EWMA (alpha = 0.001) and Expanding \n",
        "ts.loc['2008-01-01':'2009-01-10'][u'Item:  165'].plot(label='Raw')\n",
        "ts[u'Item:  165'].fillna(method='pad').expanding().mean().loc['2008-01-01':'2009-01-10'].plot(label='Expanding')\n",
        "ts[u'Item:  165'].ewm(alpha=0.001).mean().loc['2008-01-01':'2009-01-10'].plot(label='EWMA($\\\\alpha=.001$)', figsize=(25,5)) \n",
        "\n",
        "plt.legend(bbox_to_anchor=(1.25, .5), prop={'size':20})\n",
        "plt.tight_layout()\n",
        "sns.despine()"
      ],
      "execution_count": null,
      "outputs": []
    },
    {
      "cell_type": "code",
      "metadata": {
        "id": "7BLkzHK6jHSg"
      },
      "source": [
        "# Compare EWMA (alpha = 0.9) and MA (window = 1) \n",
        "# ts.loc['2008-01-01':'2009-01-10'][u'Item:  165'].plot(label='Raw')\n",
        "ts[u'Item:  165'].fillna(method='pad').rolling(1).mean().loc['2008-01-01':'2009-01-10'].plot(label='MA 1D')\n",
        "ts[u'Item:  165'].ewm(alpha=0.9).mean().loc['2008-01-01':'2009-01-10'].plot(label='EWMA($\\\\alpha=.9$)', figsize=(25,5)) \n",
        "plt.legend(bbox_to_anchor=(1.25, .5), prop={'size':20})"
      ],
      "execution_count": null,
      "outputs": []
    },
    {
      "cell_type": "markdown",
      "metadata": {
        "id": "U1BkKY7QdwVB"
      },
      "source": [
        "# Simple Exponential Smoothing"
      ]
    },
    {
      "cell_type": "markdown",
      "metadata": {
        "id": "nKTLtNZA-tf3"
      },
      "source": [
        "## A bit of Theory"
      ]
    },
    {
      "cell_type": "markdown",
      "metadata": {
        "id": "JX4TH2vBdwVC"
      },
      "source": [
        "**Sum notation**:\n",
        "$$\\hat{y}_{t+d} = \\sum_{\\tau=1}^t \\alpha\\cdot (1-\\alpha)^{t-\\tau}\\cdot y_\\tau~~~~~(1)$$ \n",
        "\n",
        "**Question:**\n",
        " * What is the problem with this formla (1)?\n",
        " * Hint: calculate sum of weights of time series points.\n",
        "\n",
        "**Recurrent formula notation:**\n",
        "$$\\hat{y}_{t+d} = \\alpha\\cdot y_t+ (1-\\alpha)\\cdot \\hat{y}_t = \\hat y_t + \\alpha \\cdot \\color{red}{e_t}$$\n",
        "where ${e_t = y_t - \\hat y_t }$\n",
        "\n",
        "\n"
      ]
    },
    {
      "cell_type": "markdown",
      "metadata": {
        "id": "OpOSaDMG-wG9"
      },
      "source": [
        "## SES Realization"
      ]
    },
    {
      "cell_type": "code",
      "metadata": {
        "id": "TlxrYAJPdwVC"
      },
      "source": [
        "# Example of realization\n",
        "\n",
        "# Simple Exponential Smoothing\n",
        "# x <array Tx1>- time series, \n",
        "# h <scalar> - forecasting delay\n",
        "# Params <dict> - dictionary with \n",
        "#    alpha <scalar in [0,1]> - smoothing parameter\n",
        "\n",
        "def SimpleExponentialSmoothing(x, h=1, Params={}):\n",
        "    T = len(x)\n",
        "    alpha = Params['alpha']\n",
        "    FORECAST = [np.NaN]*(T+h)\n",
        "    if alpha>1:\n",
        "        w.warn('Alpha can not be more than 1')\n",
        "        #alpha = 1\n",
        "        return FORECAST\n",
        "    if alpha<0:\n",
        "        w.warn('Alpha can not be less than 0')\n",
        "        #alpha = 0\n",
        "        return FORECAST\n",
        "    # initialization\n",
        "    y = x[0]\n",
        "    for cntr in range(T):\n",
        "        if not math.isnan(x[cntr]):\n",
        "            if math.isnan(y):\n",
        "                y=x[cntr]\n",
        "            y = alpha*x[cntr] + (1-alpha)*y  # = y + alpha*(x[cntr]-y) \n",
        "            #else do not nothing\n",
        "        FORECAST[cntr+h] = y\n",
        "    return FORECAST"
      ],
      "execution_count": null,
      "outputs": []
    },
    {
      "cell_type": "code",
      "metadata": {
        "id": "Lmk2gg29dwVD"
      },
      "source": [
        "# Forecast delay = 1\n",
        "h = 1\n",
        "start = ts.index[-1]+timedelta(1)\n",
        "end = ts.index[-1]+timedelta(h)\n",
        "rng = pd.date_range(start, end)\n",
        "frc_ts = pd.DataFrame(index = ts.index.append(rng), columns = ts.columns)"
      ],
      "execution_count": null,
      "outputs": []
    },
    {
      "cell_type": "code",
      "metadata": {
        "id": "MceHl3mQdwVD"
      },
      "source": [
        "# ES params\n",
        "Params ={'alpha':0.1}\n",
        "\n",
        "# generate forecasts for each Item\n",
        "for cntr in ts.columns:\n",
        "    frc_ts[cntr] = SimpleExponentialSmoothing(ts[cntr], h, Params)"
      ],
      "execution_count": null,
      "outputs": []
    },
    {
      "cell_type": "code",
      "metadata": {
        "id": "Eo1-t9gHdwVE"
      },
      "source": [
        "# fig = plt.figure(figsize=(25,7))\n",
        "# ax1=fig.add_subplot(111)\n",
        "# qlt_array=['SSE', 'MSE', 'RMSE', 'MedianAE', 'MAPE', 'MACAPE']\n",
        "# for i in range(6):\n",
        "#     # Quality = [np.NaN]*len(ts.columns)\n",
        "#     plt.subplot(2,3,i+1)\n",
        "#     Quality, _ = eval('quality'+qlt_array[i])(ts, frc_ts)\n",
        "#     Quality.plot(kind='bar')\n",
        "#     plt.title(qlt_array[i], y=0.9)"
      ],
      "execution_count": null,
      "outputs": []
    },
    {
      "cell_type": "code",
      "metadata": {
        "id": "8DZvQeMzdwVE"
      },
      "source": [
        "# show SES forecast alpha = 0.1\n",
        "def plotTSForecast(ts, frc_ts, ts_num=0, alg_title=''):\n",
        "    frc_ts.columns = ts.columns+'; '+alg_title\n",
        "    ts[ts.columns[0]].plot(style='b', linewidth=1.0, marker='o')\n",
        "    ax = frc_ts[frc_ts.columns[ts_num]].plot(style='r-^', figsize=(25,5), linewidth=1.0)\n",
        "    plt.xlabel(\"Time ticks\")\n",
        "    plt.ylabel(\"TS values\")\n",
        "    plt.legend()\n",
        "    return ax\n",
        "\n",
        "plotTSForecast(ts.loc['2009-01-01':'2009-03-03'], frc_ts.loc['2009-01-01':'2009-03-03'], ts_num=0, alg_title='ES alpha=0.1')"
      ],
      "execution_count": null,
      "outputs": []
    },
    {
      "cell_type": "markdown",
      "metadata": {
        "id": "HpFaiKFQ5hQB"
      },
      "source": [
        "**Question:**\n",
        " * Why the forecasts values for 27th, 28th, 29th and 30th of January are the same?\n",
        " * When does the last change of the forecast value occur?  "
      ]
    },
    {
      "cell_type": "code",
      "metadata": {
        "id": "HHuUAKTQdwVF"
      },
      "source": [
        "# Generate forecast for h = 30\n",
        "h = 30\n",
        "start = ts.index[-1]+timedelta(1)\n",
        "end = ts.index[-1]+timedelta(h)\n",
        "rng = pd.date_range(start, end)\n",
        "frc_ts = pd.DataFrame(index = ts.index.append(rng), columns = ts.columns)\n",
        "\n",
        "for cntr in ts.columns:\n",
        "    frc_ts[cntr] = SimpleExponentialSmoothing(ts[cntr], h, {'alpha':0.1})"
      ],
      "execution_count": null,
      "outputs": []
    },
    {
      "cell_type": "code",
      "metadata": {
        "id": "yuF2nco9dwVG"
      },
      "source": [
        "# show forecast h = 30, alpha = 0.1\n",
        "plotTSForecast(ts.loc['2009-01-01':'2009-03-03'], frc_ts.loc['2009-01-01':'2009-03-03'], ts_num=0, alg_title='ES alpha=0.1')"
      ],
      "execution_count": null,
      "outputs": []
    },
    {
      "cell_type": "markdown",
      "metadata": {
        "id": "AnJSjcMLdwVG"
      },
      "source": [
        "## Search for the optimal $\\alpha$ "
      ]
    },
    {
      "cell_type": "code",
      "metadata": {
        "id": "947EU-BvdwVH"
      },
      "source": [
        "def build_forecast(h, ts, AlgName, AlgTitle, ParamsArray, step='D'):\n",
        "  'grid'\n",
        "    \n",
        "  FRC_TS = dict()\n",
        "\n",
        "  for p in ParamsArray:\n",
        "      frc_horizon = pd.date_range(ts.index[-1], periods=h+1, freq=step)[1:]\n",
        "      frc_ts = pd.DataFrame(index = ts.index.append(frc_horizon), columns = ts.columns)\n",
        "      \n",
        "      for cntr in ts.columns:\n",
        "          frc_ts[cntr] = eval(AlgName)(ts[cntr], h, p)\n",
        "          # frc_ts[cntr] = AlgName(ts[cntr], h, p)\n",
        "      \n",
        "#         frc_ts.columns = frc_ts.columns+('%s %s' % (AlgTitle, p))\n",
        "      FRC_TS['%s %s' % (AlgTitle, p)] = frc_ts\n",
        "  \n",
        "  return FRC_TS"
      ],
      "execution_count": null,
      "outputs": []
    },
    {
      "cell_type": "code",
      "metadata": {
        "id": "TGcvAm4MdwVH"
      },
      "source": [
        "#Fit parameters\n",
        "ALPHA = [0.7, 0.4, 0.2, .15, 0.1, 0.05, 0.01]\n",
        "ESParamsArray = [{'alpha':alpha} for alpha in ALPHA]\n",
        "FRC_TS = build_forecast(h=1, ts=ts, AlgName =  'SimpleExponentialSmoothing', AlgTitle='ES' ,ParamsArray = ESParamsArray)"
      ],
      "execution_count": null,
      "outputs": []
    },
    {
      "cell_type": "markdown",
      "metadata": {
        "id": "LelXnUfwdwVI"
      },
      "source": [
        "Loss of the SES forecast for all history"
      ]
    },
    {
      "cell_type": "code",
      "metadata": {
        "id": "1mALi0TY7ZOM"
      },
      "source": [
        "# intoduce loss function\n",
        "def qualityMAPE(x,y):\n",
        "    # Mean absolute percentage error\n",
        "    # x,y - pandas structures\n",
        "    # x - real values\n",
        "    # y - forecasts\n",
        "  qlt = ((x-y).abs()/x).replace([np.inf, -np.inf], np.nan)\n",
        "  return qlt.mean() , (x-y).abs()"
      ],
      "execution_count": null,
      "outputs": []
    },
    {
      "cell_type": "code",
      "metadata": {
        "id": "uDhwyWM5dwVI"
      },
      "source": [
        "# compare ES parameters\n",
        "quality_wholehist = pd.DataFrame(index = ts.columns, columns = FRC_TS.keys())\n",
        "\n",
        "# Quality within all 1500 steps\n",
        "for param_cntr in sorted(quality_wholehist.columns):\n",
        "    frc_ts = FRC_TS[param_cntr]\n",
        "    quality_wholehist[param_cntr],_ = qualityMAPE(ts, frc_ts.loc[ts.index])\n",
        "\n",
        "ax = quality_wholehist.plot.bar(figsize = (25,7))"
      ],
      "execution_count": null,
      "outputs": []
    },
    {
      "cell_type": "markdown",
      "metadata": {
        "id": "i2Vl4wQXdwVJ"
      },
      "source": [
        "* The optimal value of $\\alpha$ is about $0.1$ "
      ]
    },
    {
      "cell_type": "markdown",
      "metadata": {
        "id": "TLw7rMZxdwVJ"
      },
      "source": [
        "Loss for first time series point"
      ]
    },
    {
      "cell_type": "code",
      "metadata": {
        "id": "9wpBsKkBdwVK"
      },
      "source": [
        "quality_initphase = pd.DataFrame(index = ts.columns, columns = FRC_TS.keys())\n",
        "\n",
        "# Quality in first 100 steps\n",
        "init_steps = 100\n",
        "for model in quality_initphase.columns:\n",
        "    frc_ts = FRC_TS[model]\n",
        "    for ts_num in ts.columns:\n",
        "        ix = pd.date_range(ts[ts_num].first_valid_index(), ts[ts_num].first_valid_index()+timedelta(init_steps))\n",
        "        quality_initphase[model][ts_num],_ = qualityMAPE(ts[ts_num].loc[ix], frc_ts[ts_num].loc[ix])\n",
        "\n",
        "ax = quality_initphase[sorted(quality_initphase.columns)].plot.bar(figsize = (25,4))\n",
        "ax.set_xlabel(\"Items\")\n",
        "ax.set_ylabel(\"MAPE\")"
      ],
      "execution_count": null,
      "outputs": []
    },
    {
      "cell_type": "markdown",
      "metadata": {
        "id": "ug6WsSWPdwVL"
      },
      "source": [
        "**Question:**\n",
        "\n",
        "Why is loss function  not calculated for some items?\n",
        "\n",
        "(Hint: see definition of loss function)"
      ]
    },
    {
      "cell_type": "code",
      "metadata": {
        "id": "z5D4HUc2dwVL"
      },
      "source": [
        "# ts VS forecast in first 100 steps\n",
        "model_num = [0,4,6]  # [0,6], [0,4,6]\n",
        "Models = sorted(FRC_TS.keys())\n",
        "\n",
        "ts_num = 3 # 7\n",
        "plot_ts = pd.DataFrame(index =ts.index)\n",
        "plot_ts[ts.columns[ts_num]] = ts[ts.columns[ts_num]]\n",
        "for model in model_num:\n",
        "     frc_ts = FRC_TS[Models[model]]\n",
        "     plot_ts[frc_ts.columns[ts_num]+'; '+Models[model]] = frc_ts[frc_ts.columns[ts_num]]\n",
        "\n",
        "ix = pd.date_range(ts[ts.columns[ts_num]].first_valid_index()+timedelta(140), ts[ts.columns[ts_num]].first_valid_index()+timedelta(170))\n",
        "plot_ts.loc[ix].plot(figsize = (15, 7), linewidth=3.0) # :250"
      ],
      "execution_count": null,
      "outputs": []
    },
    {
      "cell_type": "markdown",
      "metadata": {
        "id": "DEq1eKYtdwVM"
      },
      "source": [
        "**Wow: we need to use big $\\alpha$ for first steps of ES!** \n",
        "    - We need to modify algorithm for tirst steps!\n",
        "\n",
        "**Question:**\n",
        "   * How algorithm can be modified for first steps?"
      ]
    },
    {
      "cell_type": "markdown",
      "metadata": {
        "id": "c80WiZNxdwVM"
      },
      "source": [
        "## Examples of modification (self-study)"
      ]
    },
    {
      "cell_type": "markdown",
      "metadata": {
        "id": "WPAuMrTMdwVM"
      },
      "source": [
        "* First variant: let's make $\\alpha$ higher for first time point of TS"
      ]
    },
    {
      "cell_type": "code",
      "metadata": {
        "id": "1EsobpsFdwVN"
      },
      "source": [
        "def InitExponentialSmoothing(x, h, Params):\n",
        "    T = len(x)\n",
        "    alpha = Params['alpha']\n",
        "    AdaptationPeriod=Params['AdaptationPeriod']\n",
        "    FORECAST = [np.NaN]*(T+h)\n",
        "    if alpha>1:\n",
        "        w.warn('Alpha can not be more than 1')\n",
        "        #alpha = 1\n",
        "        return FORECAST\n",
        "    if alpha<0:\n",
        "        w.warn('Alpha can not be less than 0')\n",
        "        #alpha = 0\n",
        "        return FORECAST\n",
        "    y = x[0]\n",
        "    t0=0\n",
        "    for t in range(0, T):\n",
        "        if not math.isnan(x[t]):\n",
        "            if math.isnan(y):\n",
        "                y=x[t]\n",
        "                t0=t\n",
        "            if (t-t0+1)<AdaptationPeriod:\n",
        "                y = y*(1-alpha)*(t-t0+1)/(AdaptationPeriod) + (1-(1-alpha)*(t-t0+1)/(AdaptationPeriod))*x[t]\n",
        "            else:\n",
        "                y = y*(1-alpha) + alpha*x[t]\n",
        "            #else do not nothing\n",
        "        FORECAST[t+h] = y\n",
        "    return FORECAST"
      ],
      "execution_count": null,
      "outputs": []
    },
    {
      "cell_type": "markdown",
      "metadata": {
        "id": "JRVyaK2vdwVN"
      },
      "source": [
        "* Second variant: normalize weights of ES: $1 - (1-\\alpha)^t$"
      ]
    },
    {
      "cell_type": "code",
      "metadata": {
        "id": "7gec7BDXdwVO"
      },
      "source": [
        "def NormExponentialSmoothing(x, h, Params):\n",
        "    T = len(x)\n",
        "    alpha = Params['alpha']\n",
        "    FORECAST = [np.NaN]*(T+h)\n",
        "    if alpha>1:\n",
        "        w.warn('Alpha can not be more than 1')\n",
        "        #alpha = 1\n",
        "        return FORECAST\n",
        "    if alpha<0:\n",
        "        w.warn('Alpha can not be less than 0')\n",
        "        #alpha = 0\n",
        "        return FORECAST\n",
        "    \n",
        "    y = 0\n",
        "    norm = 0\n",
        "    for t in range(0, T):\n",
        "        if not math.isnan(x[t]):\n",
        "            if math.isnan(y):\n",
        "                norm=1  # initialize when first data point comes\n",
        "            norm = norm*(1-alpha)\n",
        "            y = y*(1-alpha) + (alpha)*x[t]\n",
        "        FORECAST[t+h] = y/(1-norm)\n",
        "    return FORECAST"
      ],
      "execution_count": null,
      "outputs": []
    },
    {
      "cell_type": "code",
      "metadata": {
        "id": "MkKKxLtqdwVO"
      },
      "source": [
        "#Fit parameters\n",
        "\n",
        "ALPHA = [0.7, 0.4, 0.2, .15, 0.1, 0.05, 0.01]\n",
        "ESParamsArray = [{'alpha':alpha, 'AdaptationPeriod': 5} for alpha in ALPHA]\n",
        "FRC_TS.update(build_forecast(h=1, ts=ts, AlgName =  'InitExponentialSmoothing', AlgTitle='IES' ,ParamsArray = ESParamsArray))\n",
        "FRC_TS.update(build_forecast(h=1, ts=ts, AlgName =  'NormExponentialSmoothing', AlgTitle='NES' ,ParamsArray = ESParamsArray))"
      ],
      "execution_count": null,
      "outputs": []
    },
    {
      "cell_type": "code",
      "metadata": {
        "id": "xRXyzdkFdwVP"
      },
      "source": [
        "# compare ES methods\n",
        "QualityStr = pd.DataFrame(index = ts.columns, columns = sorted(FRC_TS.keys()))\n",
        "\n",
        "for model in sorted(QualityStr.columns):\n",
        "    frc_ts = FRC_TS[model]\n",
        "    QualityStr[model],_ = qualityMAPE(ts, frc_ts)\n",
        "\n",
        "\n",
        "QualityStr[sorted(QualityStr.columns)[7:14]].mean().plot(label='IES', linewidth=2.0)\n",
        "QualityStr[sorted(QualityStr.columns)[14:]].mean().plot(label='NES', linewidth=2.0)\n",
        "QualityStr[sorted(QualityStr.columns)[:7]].mean().plot(label='ES', figsize = (15, 5),linewidth=2.0)\n",
        "# ax.set_xticklabels(np.reshape(np.asarray(QualityStr.columns[:14]), (2, 7)).T , rotation=90)\n",
        "plt.legend()"
      ],
      "execution_count": null,
      "outputs": []
    },
    {
      "cell_type": "markdown",
      "metadata": {
        "id": "raFCgrw_dwVP"
      },
      "source": [
        "* Conclusion: **The optimal value of $\\alpha$ is about the same for all ES modifications.**"
      ]
    },
    {
      "cell_type": "code",
      "metadata": {
        "id": "a3lPXg88dwVQ"
      },
      "source": [
        "# compare ES methods in first 100 steps\n",
        "QualityStr = pd.DataFrame(index = ts.columns, columns = sorted(FRC_TS.keys()))\n",
        "\n",
        "for model in QualityStr.columns:\n",
        "    frc_ts = FRC_TS[model]\n",
        "    for ts_num in ts.columns:\n",
        "        ix = pd.date_range(ts[ts_num].first_valid_index(), ts[ts_num].first_valid_index()+timedelta(50))\n",
        "        QualityStr[model][ts_num],_ = qualityMAPE(ts[ts_num].loc[ix], frc_ts[ts_num].loc[ix])\n",
        "\n",
        "\n",
        "QualityStr[sorted(QualityStr.columns)[7:14]].mean().plot(label='IES', linewidth=2.0)\n",
        "QualityStr[sorted(QualityStr.columns)[14:21]].mean().plot(label='NES', linewidth=2.0)\n",
        "QualityStr[sorted(QualityStr.columns)[:7]].mean().plot(label='ES',  figsize = (15, 5),linewidth=2.0)\n",
        "plt.legend()"
      ],
      "execution_count": null,
      "outputs": []
    },
    {
      "cell_type": "markdown",
      "metadata": {
        "id": "d17fTYmudwVQ"
      },
      "source": [
        "## Adaptive ES (self-study)\n",
        "Лукашин Ю.П. Адаптивные методы краткосрочного прогнозирования временных рядов. Финансы и статистика. 2003, глава 1"
      ]
    },
    {
      "cell_type": "markdown",
      "metadata": {
        "id": "hQPFLYwAdwVR"
      },
      "source": [
        "Tracking signal see 1.\n",
        "\n",
        "$e_t = y_t - \\hat{y}_t$\n",
        "\n",
        "$\\tilde{e}_t = \\gamma e_{t-1} + (1-\\gamma) \\tilde{e}_{t-1}$\n",
        "\n",
        "$\\overline{e}_t = \\gamma \\left|e_{t-1}\\right| + (1-\\gamma) \\overline{e}_{t-1}$\n",
        "\n",
        "* Tracking signal\n",
        "\n",
        "$$K_t = \\frac{\\tilde{e}_t}{\\overline{e}_t}$$\n",
        "\n",
        "* to do algorithm more stable \n",
        "$$\\alpha_t = \\left|K_{t-1}\\right|$$"
      ]
    },
    {
      "cell_type": "code",
      "metadata": {
        "id": "ZQNisJCmdwVR"
      },
      "source": [
        "# AdaptiveExponentialSmoothing\n",
        "# x <array Tx1>- time series, \n",
        "# h <scalar> - forecasting delay\n",
        "# Params <dict> - dictionary with \n",
        "#    alpha <scalar in [0,1]> - smoothing parameter\n",
        "#    AdaptivePeriod scalar> - adapation period for initialization\n",
        "#    gamma<scalar in [0,1]> - parametr of cross validation\n",
        "\n",
        "def AdaptiveExponentialSmoothing(x, h, Params):\n",
        "    T = len(x)\n",
        "    alpha = Params['alpha']\n",
        "    gamma = Params['gamma']\n",
        "    AdaptationPeriod=Params['AdaptationPeriod']\n",
        "    FORECAST = [np.NaN]*(T+h)\n",
        "    if alpha>1:\n",
        "        w.warn('Alpha can not be more than 1')\n",
        "        #alpha = 1\n",
        "        return FORECAST\n",
        "    if alpha<0:\n",
        "        w.warn('Alpha can not be less than 0')\n",
        "        #alpha = 0\n",
        "        return FORECAST\n",
        "    y = np.NaN\n",
        "    t0= np.NaN\n",
        "    e1= np.NaN\n",
        "    e2= np.NaN\n",
        "    Kt_1 = alpha\n",
        "    K=alpha\n",
        "    for t in range(0, T):\n",
        "        if not math.isnan(x[t]):\n",
        "            if math.isnan(y):\n",
        "                y=x[t]\n",
        "                t0=t\n",
        "                e1=alpha\n",
        "                e2 = 1\n",
        "            else:\n",
        "                if (t-t0)<h:\n",
        "                    e1 = gamma*(x[t]-y)+(1-gamma)*e1\n",
        "                    e2 = gamma*np.abs(x[t]-y)+(1-gamma)*e2\n",
        "                else:\n",
        "                    e1 = gamma*(x[t]-FORECAST[t])+(1-gamma)*e1\n",
        "                    e2 = gamma*np.abs(x[t]-FORECAST[t])+(1-gamma)*e2\n",
        "            \n",
        "            if e2==0:\n",
        "                K=alpha\n",
        "            else:\n",
        "                K=np.abs(e1/e2)\n",
        "\n",
        "            alpha=Kt_1\n",
        "            Kt_1=K\n",
        "\n",
        "            if (t-t0+1)<AdaptationPeriod:\n",
        "                y = y*(1-alpha)*(t-t0+1)/(AdaptationPeriod) + (1-(1-alpha)*(t-t0+1)/(AdaptationPeriod))*x[t]\n",
        "            else:\n",
        "                y = y*(1-alpha) + (alpha)*x[t]\n",
        "        FORECAST[t+h] = y\n",
        "    return FORECAST"
      ],
      "execution_count": null,
      "outputs": []
    },
    {
      "cell_type": "code",
      "metadata": {
        "id": "ep03eW9JdwVS"
      },
      "source": [
        "#Fit parameters\n",
        "GAMMA = [0.1, 0.01, 0.005, 0.001, 0.0005, 0.0001, 0.00005]\n",
        "alpha = 0.1\n",
        "AESParamsArray = [{'alpha':alpha, 'gamma':gamma, 'AdaptationPeriod': 5} for gamma in GAMMA]\n",
        "FRC_TS.update(build_forecast(h=1, ts=ts, AlgName =  'AdaptiveExponentialSmoothing', AlgTitle='AES' ,ParamsArray = AESParamsArray))"
      ],
      "execution_count": null,
      "outputs": []
    },
    {
      "cell_type": "code",
      "metadata": {
        "id": "IqeFlyuUdwVS"
      },
      "source": [
        "# compare ES methods\n",
        "QualityStr = pd.DataFrame(index = ts.columns, columns = sorted(FRC_TS.keys()))\n",
        "\n",
        "for model in sorted(QualityStr.columns):\n",
        "    frc_ts = FRC_TS[model]\n",
        "    QualityStr[model],_ = qualityMACAPE(ts, frc_ts)\n",
        "\n",
        "QualityStr[sorted(QualityStr.columns)[14:21]].mean().plot(color='g', label='IES', figsize = (15, 5), linewidth=2)\n",
        "QualityStr[sorted(QualityStr.columns)[21:]].mean().plot(color='b', label='NES', linewidth=2 )\n",
        "ax = QualityStr[sorted(QualityStr.columns)[:7]].mean().plot(color='r', label='AES', linewidth=2 )\n",
        "ax.set_xticklabels(np.reshape(np.asarray(QualityStr.columns[:7]), (1, 7)).T , rotation=90)\n",
        "plt.legend()\n",
        "# ax.set_xticklabels(df.C, rotation=90)"
      ],
      "execution_count": null,
      "outputs": []
    },
    {
      "cell_type": "markdown",
      "metadata": {
        "id": "Xw770sD8dwVT"
      },
      "source": [
        "** Conclusion**: Adaptive ES has less loss (by optimal value of parameters) than other modifications ES  "
      ]
    },
    {
      "cell_type": "code",
      "metadata": {
        "id": "8ZWSiETCdwVT"
      },
      "source": [
        "# Sort Quality\n",
        "QualityStr[QualityStr.columns[:14]].mean().sort_values()"
      ],
      "execution_count": null,
      "outputs": []
    },
    {
      "cell_type": "markdown",
      "metadata": {
        "collapsed": true,
        "id": "K6ChZ2hYdwUw"
      },
      "source": [
        "## Case when SES doesn't work"
      ]
    },
    {
      "cell_type": "code",
      "metadata": {
        "id": "x9Ar1oUSdwUx"
      },
      "source": [
        "# Wage data in RF\n",
        "wage = pd.read_csv('https://raw.githubusercontent.com/aromanenko/ATSF/main/data/monthly-wage.csv', sep=';', index_col= 0, parse_dates=True)\n",
        "wage.plot(figsize=(25,7))"
      ],
      "execution_count": null,
      "outputs": []
    },
    {
      "cell_type": "markdown",
      "metadata": {
        "id": "x1xVXIlpdwUy"
      },
      "source": [
        "**Questions** \n",
        "    - Which charachteristic of TS can you mention so far?"
      ]
    },
    {
      "cell_type": "markdown",
      "metadata": {
        "id": "wvm_4cj_dwVU"
      },
      "source": [
        "Wage ts forecast with SES alpha =0.1"
      ]
    },
    {
      "cell_type": "code",
      "metadata": {
        "id": "21xxD5zHdwVU"
      },
      "source": [
        "ESParamsArray = [{'alpha':0.1, 'AdaptationPeriod':10}]\n",
        "FRC_WAGE = build_forecast(h=1, ts=wage, AlgName =  'SimpleExponentialSmoothing', AlgTitle='SES' ,ParamsArray = ESParamsArray)\n",
        "\n",
        "plotTSForecast(wage.loc['1993-01-01':'2017-01-01'], FRC_WAGE[list(FRC_WAGE)[0]].loc['1993-01-01':'2017-01-01']\n",
        "               , ts_num=0, alg_title='IES alpha=0.1')"
      ],
      "execution_count": null,
      "outputs": []
    },
    {
      "cell_type": "markdown",
      "metadata": {
        "id": "d15TGANxdwVW"
      },
      "source": [
        "**Question**\n",
        "  * What indicates that forecast is inadequate (=there could be more proper forecastl)?"
      ]
    },
    {
      "cell_type": "markdown",
      "metadata": {
        "id": "PVy_c8N2dwVV"
      },
      "source": [
        "Search for the optimal $\\alpha$ "
      ]
    },
    {
      "cell_type": "code",
      "metadata": {
        "id": "NSQCVvVBdwVV"
      },
      "source": [
        "ALPHA = np.linspace(0.01,0.99,99)\n",
        "ESParamsArray = [{'alpha':alpha, 'AdaptationPeriod':10} for alpha in ALPHA]\n",
        "FRC_WAGE = build_forecast(h=1, ts=wage, AlgName =  'SimpleExponentialSmoothing', AlgTitle='SES' ,ParamsArray = ESParamsArray)"
      ],
      "execution_count": null,
      "outputs": []
    },
    {
      "cell_type": "code",
      "metadata": {
        "id": "2-ApA3qrdwVV"
      },
      "source": [
        "# compare ES parameters\n",
        "QualityStr = pd.DataFrame(index = wage.columns, columns = FRC_WAGE.keys())\n",
        "\n",
        "ix = wage.loc['1998-09-01':'2018-01-01'].index\n",
        "for param_cntr in sorted(QualityStr.columns):\n",
        "    frc_wage = FRC_WAGE[param_cntr]\n",
        "    QualityStr[param_cntr],_ = qualityMAPE(wage.loc[ix], frc_wage.loc[ix])\n",
        "\n",
        "QualityStr[QualityStr.columns].mean().sort_values()"
      ],
      "execution_count": null,
      "outputs": []
    },
    {
      "cell_type": "markdown",
      "metadata": {
        "id": "Fc_1FveVdwVW"
      },
      "source": [
        "draw the forecast with optimial value $\\alpha $"
      ]
    },
    {
      "cell_type": "code",
      "metadata": {
        "id": "Y0aT3QsxdwVW"
      },
      "source": [
        "algName = QualityStr[QualityStr.columns].mean().sort_values().index[0]\n",
        "plotTSForecast(wage.loc['1999-01-01':'2017-01-01'], FRC_WAGE[algName].loc['1999-01-01':'2017-01-01']\n",
        "               , ts_num=0, alg_title=algName)"
      ],
      "execution_count": null,
      "outputs": []
    },
    {
      "cell_type": "markdown",
      "metadata": {
        "id": "xhOm4DJfdwVW"
      },
      "source": [
        "**Question**\n",
        "    * Is forecast still inadequate?"
      ]
    },
    {
      "cell_type": "markdown",
      "metadata": {
        "id": "K5g2BiNzdwVX"
      },
      "source": [
        "Calculate loss of the forecast of TS in [02.2016, 01.2017]"
      ]
    },
    {
      "cell_type": "code",
      "metadata": {
        "id": "h7BKryk4dwVX"
      },
      "source": [
        "qualityMAPE(wage.loc['2016-02-01':'2017-01-01'], FRC_WAGE[algName].loc['2016-02-01':'2017-01-01'])[0]"
      ],
      "execution_count": null,
      "outputs": []
    },
    {
      "cell_type": "markdown",
      "metadata": {
        "id": "2aheyu1idwVY"
      },
      "source": [
        "SES to Yearly Wage Data"
      ]
    },
    {
      "cell_type": "code",
      "metadata": {
        "id": "T-XxceZOdwVY"
      },
      "source": [
        "# Aggregate original TS by Years\n",
        "wage_year = wage.resample(\"12MS\").sum()[:-1] # cut 2017 year\n",
        "wage_year[-4:]"
      ],
      "execution_count": null,
      "outputs": []
    },
    {
      "cell_type": "code",
      "metadata": {
        "id": "97NbjFa-dwVY"
      },
      "source": [
        "wage_year.plot(figsize=(15,5))"
      ],
      "execution_count": null,
      "outputs": []
    },
    {
      "cell_type": "markdown",
      "metadata": {
        "id": "m9R8bRSVdwVZ"
      },
      "source": [
        "Search of optimal $\\alpha$ for aggregated data"
      ]
    },
    {
      "cell_type": "code",
      "metadata": {
        "collapsed": true,
        "id": "CIuz4I65dwVZ"
      },
      "source": [
        "ALPHA = np.linspace(0.01,1,100)\n",
        "ESParamsArray = [{'alpha':alpha, 'AdaptationPeriod':10} for alpha in ALPHA]\n",
        "FRC_WAGE_YEAR = build_forecast(h=1, ts=wage_year, AlgName =  'SimpleExponentialSmoothing', AlgTitle='IES'\n",
        "                              ,ParamsArray = ESParamsArray, step='12MS')"
      ],
      "execution_count": null,
      "outputs": []
    },
    {
      "cell_type": "code",
      "metadata": {
        "id": "VJTojbjtdwVa"
      },
      "source": [
        "# compare ES parameters\n",
        "QualityStr = pd.DataFrame(index = wage_year.columns, columns = FRC_WAGE_YEAR.keys())\n",
        "\n",
        "ix = wage_year.loc['1999-01':'2010-01'].index\n",
        "for param_cntr in sorted(QualityStr.columns):\n",
        "    frc_wage = FRC_WAGE_YEAR[param_cntr]\n",
        "    QualityStr[param_cntr],_ = qualityMAPE(wage_year.loc[ix], frc_wage.loc[ix])\n",
        "\n",
        "QualityStr[QualityStr.columns].mean().sort_values()[:5]"
      ],
      "execution_count": null,
      "outputs": []
    },
    {
      "cell_type": "markdown",
      "metadata": {
        "id": "Wr4HX5zZdwVa"
      },
      "source": [
        "Forecast with optimial value  $\\alpha$"
      ]
    },
    {
      "cell_type": "code",
      "metadata": {
        "id": "Bc253aEhdwVb"
      },
      "source": [
        "algName = QualityStr[QualityStr.columns].mean().sort_values().index[0]\n",
        "plotTSForecast(wage_year.loc['1999-01-01':'2016-01-01'], FRC_WAGE_YEAR[algName].loc['1999-01-01':'2016-01-01']\n",
        "               , ts_num=0, alg_title=algName)\n",
        "\n",
        "print('MAPE: %s' % qualityMAPE(wage_year.loc['2015-01-01':'2016-01-01'], FRC_WAGE_YEAR[algName].loc['2015-01-01':'2016-01-01'])[0])"
      ],
      "execution_count": null,
      "outputs": []
    },
    {
      "cell_type": "markdown",
      "metadata": {
        "id": "5A9ZBoIudwVe"
      },
      "source": [
        "**Remember**\n",
        "   - Empirical rules:\n",
        "\n",
        "  if $\\alpha^*\\in(0,0.3)$ the series is stationary, ES works;\n",
        "\n",
        "  if $\\alpha^*\\in(0.3,1)$ the series is non-stationary, we need a trend model."
      ]
    },
    {
      "cell_type": "markdown",
      "metadata": {
        "id": "cvdNYxuSDrcC"
      },
      "source": [
        "# Prophet vs Simple Exponential Smoothing"
      ]
    },
    {
      "cell_type": "code",
      "metadata": {
        "id": "uXctorkYP19i"
      },
      "source": [
        "from copy import deepcopy\n",
        "quality_wholehist1 = deepcopy(quality_wholehist)"
      ],
      "execution_count": null,
      "outputs": []
    },
    {
      "cell_type": "code",
      "metadata": {
        "id": "YY8foszBv4yo"
      },
      "source": [
        "forecast"
      ],
      "execution_count": null,
      "outputs": []
    },
    {
      "cell_type": "code",
      "metadata": {
        "id": "y_wtYNroDydh"
      },
      "source": [
        "from fbprophet import Prophet\n",
        "\n",
        "#suppressing the info logs\n",
        "import logging\n",
        "logging.getLogger('fbprophet').setLevel(logging.ERROR)\n",
        "\n",
        "for col in ts.columns:\n",
        "    #creating a dataframe that fbprophet requires\n",
        "    df = pd.DataFrame(ts[col])\n",
        "    df['ds'] = df.index\n",
        "    df.columns = ['y', 'ds']\n",
        "    \n",
        "    #making predictions\n",
        "    m = Prophet()\n",
        "    m.fit(df)\n",
        "    #'make_future_dataframe' parameter decides how far into the future we're looking\n",
        "    future = m.make_future_dataframe(100)\n",
        "    forecast = m.predict(future)\n",
        "    \n",
        "    #plotting the results\n",
        "    plt.figure(figsize=(18,5))\n",
        "    plt.plot(forecast['ds'], forecast['yhat'], color='red', alpha=0.7, label='fbprophet')\n",
        "    plt.plot(df['y'], color='green', alpha=0.7, label='true')\n",
        "    quality_wholehist1.loc[col, 'FBP'],_ = qualityMAPE(df['y'], forecast.set_index('ds').loc[ts.index]['yhat'])\n",
        "    plt.title(col)\n",
        "    plt.legend()\n",
        "    plt.show();"
      ],
      "execution_count": null,
      "outputs": []
    },
    {
      "cell_type": "code",
      "metadata": {
        "id": "ii0gijbBIHvo"
      },
      "source": [
        "# components of fbprophet model: there are many of them\n",
        " forecast"
      ],
      "execution_count": null,
      "outputs": []
    },
    {
      "cell_type": "code",
      "metadata": {
        "id": "ePnsLIy4WR79"
      },
      "source": [
        "# generate forecast with SES for h = 100 next days after fs_start_dt\n",
        "fs_start_dt = '07-01-2007'\n",
        "h = 100\n",
        "\n",
        "ALPHA = [0.4, 0.2, .15, 0.1, 0.05, 0.01, 0.005]\n",
        "ESParamsArray = [{'alpha':alpha} for alpha in ALPHA]\n",
        "FRC_TS = build_forecast(h=h, ts=ts[:fs_start_dt], AlgName =  'SimpleExponentialSmoothing', AlgTitle='ES' ,ParamsArray = ESParamsArray)\n",
        "\n",
        "\n",
        "quality_100days = pd.DataFrame(index = ts.columns, columns = FRC_TS.keys())\n",
        "\n",
        "# Quality within first 100 steps after fs_start_dt\n",
        "for model in quality_100days.columns:\n",
        "    frc_ts = FRC_TS[model]\n",
        "    for ts_num in ts.columns:\n",
        "        ix = pd.date_range(pd.to_datetime(fs_start_dt), pd.to_datetime(fs_start_dt)+timedelta(h) )\n",
        "        quality_100days[model][ts_num],_ = qualityMAPE(ts[ts_num].loc[ix], frc_ts[ts_num].loc[ix])\n",
        "\n",
        "# ax = quality_100days[sorted(quality_100days.columns)].plot.bar(figsize = (25,4))\n",
        "# ax.set_xlabel(\"Items\")\n",
        "# ax.set_ylabel(\"MAPE\")"
      ],
      "execution_count": null,
      "outputs": []
    },
    {
      "cell_type": "code",
      "metadata": {
        "id": "uIIr5lDeSTTi"
      },
      "source": [
        "# generate forecast since fs_start_dt\n",
        "for col in ts.columns:\n",
        "    #creating a dataframe that fbprophet requires\n",
        "    df = pd.DataFrame(ts.loc[:fs_start_dt, col])\n",
        "    df['ds'] = ts[:fs_start_dt].index\n",
        "    df.columns = ['y', 'ds']\n",
        "    \n",
        "    #making predictions\n",
        "    m = Prophet()\n",
        "    m.fit(df)\n",
        "    #'make_future_dataframe' parameter decides how far into the future we're looking\n",
        "    future = m.make_future_dataframe(100)\n",
        "    forecast = m.predict(future)\n",
        "    \n",
        "    #plotting the results\n",
        "    plt.figure(figsize=(18,5))\n",
        "    plt.plot(forecast['ds'], forecast['yhat'], color='red', alpha=0.7, label='fbprophet')\n",
        "    plt.plot(df['y'], color='green', alpha=0.7, label='true')\n",
        "    quality_100days.loc[col, 'FBP'],_ = qualityMAPE(ts.loc[fs_start_dt:, col], forecast.set_index('ds').loc[fs_start_dt:, 'yhat'])\n",
        "    plt.title(col)\n",
        "    plt.legend()\n",
        "    plt.show();"
      ],
      "execution_count": null,
      "outputs": []
    },
    {
      "cell_type": "code",
      "metadata": {
        "id": "eXWk964IaFeS"
      },
      "source": [
        "ax = quality_100days.plot.bar(figsize = (25,4))\n",
        "ax.set_xlabel(\"Items\")\n",
        "ax.set_ylabel(\"MAPE\")"
      ],
      "execution_count": null,
      "outputs": []
    },
    {
      "cell_type": "markdown",
      "metadata": {
        "id": "t4lAyfygdwVe"
      },
      "source": [
        "# Materials\n",
        "* Лукишн Ю.П. Адаптивные методы краткосрочного прогнозирования временных рядов. Финансы и статистика. 2003, главы 1,4,5,7."
      ]
    }
  ]
}