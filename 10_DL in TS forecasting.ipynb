{
  "nbformat": 4,
  "nbformat_minor": 0,
  "metadata": {
    "kernelspec": {
      "display_name": "Python 3",
      "language": "python",
      "name": "python3"
    },
    "language_info": {
      "codemirror_mode": {
        "name": "ipython",
        "version": 3
      },
      "file_extension": ".py",
      "mimetype": "text/x-python",
      "name": "python",
      "nbconvert_exporter": "python",
      "pygments_lexer": "ipython3",
      "version": "3.8.8"
    },
    "colab": {
      "name": "10_DL in TS Forecasting.ipynb",
      "provenance": [],
      "toc_visible": true
    }
  },
  "cells": [
    {
      "cell_type": "markdown",
      "metadata": {
        "id": "QYjNN0XG1xkR"
      },
      "source": [
        "HSE, Applied Time Series Forecasitng , Spring 2022 \n",
        "\n",
        "<font color=\"blue\"> Lesson #10: DL in Timeseries Forecasting</font>\n",
        "\n",
        "<span style=\"color:black; font-size: 12pt\"></span>\n",
        "\n",
        "Alexey Romanenko,\n",
        "<font color=\"blue\">alexromsput@gmail.com</font>"
      ]
    },
    {
      "cell_type": "markdown",
      "metadata": {
        "id": "0bEXtbW_19Tx"
      },
      "source": [
        "**Key words:** \n",
        "    - Deep Learning for Time Series Forecasting, TS Clustering\n",
        "\n",
        "**Your feedback:**  please provide you feedback  <a href=\"https://forms.gle/bEV5iwmTqdM9rUoy8\"> here </a>"
      ]
    },
    {
      "cell_type": "code",
      "metadata": {
        "id": "U86m2u2Q1suC"
      },
      "source": [
        "import math\n",
        "import numpy as np\n",
        "import matplotlib.pyplot as plt\n",
        "import pandas as pd\n",
        "from datetime import timedelta\n",
        "from scipy import stats\n",
        "from statsmodels.tsa import stattools\n",
        "from copy import deepcopy\n",
        "\n",
        "# don't forget to upload utils file to the colab session\n",
        "from utils import qualityWAPE, qualityRMSE, \\\n",
        "SimpleExponentialSmoothing, HoltExponentialSmoothing, AdditiveWintersExponentialSmoothing, TheilWageExponentialSmoothing\n",
        "import warnings, pylab\n",
        "\n",
        "warnings.filterwarnings('ignore')\n",
        "\n",
        "# setting of the plotting style, registers pandas date converters for matplotlib and the default figure size\n",
        "import seaborn as sns\n",
        "sns.set_style(\"darkgrid\")\n",
        "pd.plotting.register_matplotlib_converters()\n",
        "# Default figure size\n",
        "sns.mpl.rc(\"figure\", figsize=(25, 5))\n",
        "sns.mpl.rc(\"font\", size=14)"
      ],
      "execution_count": null,
      "outputs": []
    },
    {
      "cell_type": "markdown",
      "metadata": {
        "id": "T6cEYLv-QIk9"
      },
      "source": [
        "# DL in time series forecasting\n",
        "**Questions**\n",
        "* Does DL bring something new as time series forecasting approach?\n",
        "* What are advantages of DL approach"
      ]
    },
    {
      "cell_type": "markdown",
      "source": [
        "\n",
        "## LSTM vs ARIMA\n",
        "\n",
        "<img src = 'https://www.codeproject.com/KB/cross-platform/5165357/lstm-cell.png'>\n",
        "\n",
        "ARMA model:\n",
        "$$ y_t = \\sum_{i=1}^\\color{red}p \\alpha_i\\cdot y_{t-i}+\\sum_{j=1}^\\color{red}q \\alpha_j\\cdot \\varepsilon_{t-j}+\\varepsilon_t$$\n",
        "<img src = 'https://github.com/aromanenko/ATSF/blob/main/pic/Memory%20term%20in%20TSF.PNG?raw=true' width = 500pt>\n",
        "\n",
        "**Question:**\n",
        "* What are key difference between LSTM and ARIMA?\n",
        "  <!-- - LSTM has non-linear components, \n",
        "  - LSTM has more sophisticated mixture of components -->"
      ],
      "metadata": {
        "id": "8WCiU5wtc4LE"
      }
    },
    {
      "cell_type": "markdown",
      "source": [
        "## Advantages of DL\n",
        "**Questions**\n",
        "* When non-linear transformation can be beneficial (can boost accuracy)?\n",
        "\n",
        "<img src = 'https://github.com/aromanenko/ATSF/blob/main/pic/DL_Advantages.PNG?raw=true' width = 500pt>"
      ],
      "metadata": {
        "id": "9lrhKLFOc-YW"
      }
    },
    {
      "cell_type": "code",
      "source": [
        ""
      ],
      "metadata": {
        "id": "fZX7rmfMeEqf"
      },
      "execution_count": null,
      "outputs": []
    }
  ]
}